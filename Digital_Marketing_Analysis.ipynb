{
  "nbformat": 4,
  "nbformat_minor": 0,
  "metadata": {
    "colab": {
      "name": "Copy of Stackadapt_assignment_1.ipynb",
      "provenance": [],
      "collapsed_sections": [],
      "toc_visible": true
    },
    "kernelspec": {
      "name": "python3",
      "display_name": "Python 3"
    }
  },
  "cells": [
    {
      "cell_type": "code",
      "metadata": {
        "id": "Eul0FkXyfdIN"
      },
      "source": [
        "import pandas as pd\n",
        "import numpy as np\n",
        "import matplotlib.pyplot as plt\n",
        "import seaborn as sns\n",
        "from sklearn.tree import DecisionTreeClassifier"
      ],
      "execution_count": null,
      "outputs": []
    },
    {
      "cell_type": "code",
      "metadata": {
        "id": "lQb8MelJ3IaW",
        "colab": {
          "base_uri": "https://localhost:8080/",
          "height": 195
        },
        "outputId": "57b9be32-fd4e-4d0a-e646-d82e62d2e303"
      },
      "source": [
        "cim = pd.read_excel('Creative ID Mapping.xlsx')\n",
        "cim.head()"
      ],
      "execution_count": null,
      "outputs": [
        {
          "output_type": "execute_result",
          "data": {
            "text/html": [
              "<div>\n",
              "<style scoped>\n",
              "    .dataframe tbody tr th:only-of-type {\n",
              "        vertical-align: middle;\n",
              "    }\n",
              "\n",
              "    .dataframe tbody tr th {\n",
              "        vertical-align: top;\n",
              "    }\n",
              "\n",
              "    .dataframe thead th {\n",
              "        text-align: right;\n",
              "    }\n",
              "</style>\n",
              "<table border=\"1\" class=\"dataframe\">\n",
              "  <thead>\n",
              "    <tr style=\"text-align: right;\">\n",
              "      <th></th>\n",
              "      <th>creative ID</th>\n",
              "      <th>Creative Type</th>\n",
              "    </tr>\n",
              "  </thead>\n",
              "  <tbody>\n",
              "    <tr>\n",
              "      <th>0</th>\n",
              "      <td>47073</td>\n",
              "      <td>native</td>\n",
              "    </tr>\n",
              "    <tr>\n",
              "      <th>1</th>\n",
              "      <td>47947</td>\n",
              "      <td>native</td>\n",
              "    </tr>\n",
              "    <tr>\n",
              "      <th>2</th>\n",
              "      <td>52960</td>\n",
              "      <td>native</td>\n",
              "    </tr>\n",
              "    <tr>\n",
              "      <th>3</th>\n",
              "      <td>115773</td>\n",
              "      <td>native</td>\n",
              "    </tr>\n",
              "    <tr>\n",
              "      <th>4</th>\n",
              "      <td>127091</td>\n",
              "      <td>native</td>\n",
              "    </tr>\n",
              "  </tbody>\n",
              "</table>\n",
              "</div>"
            ],
            "text/plain": [
              "   creative ID Creative Type\n",
              "0        47073        native\n",
              "1        47947        native\n",
              "2        52960        native\n",
              "3       115773        native\n",
              "4       127091        native"
            ]
          },
          "metadata": {
            "tags": []
          },
          "execution_count": 3
        }
      ]
    },
    {
      "cell_type": "code",
      "metadata": {
        "id": "5NuTkkPD4qvA",
        "colab": {
          "base_uri": "https://localhost:8080/"
        },
        "outputId": "57a60119-3469-4955-f056-b06a4ba216d3"
      },
      "source": [
        "cim.columns"
      ],
      "execution_count": null,
      "outputs": [
        {
          "output_type": "execute_result",
          "data": {
            "text/plain": [
              "Index(['creative ID', 'Creative Type'], dtype='object')"
            ]
          },
          "metadata": {
            "tags": []
          },
          "execution_count": 4
        }
      ]
    },
    {
      "cell_type": "markdown",
      "metadata": {
        "id": "mwlvv2zyOlBz"
      },
      "source": [
        "## Cleaning the data in the cim table"
      ]
    },
    {
      "cell_type": "code",
      "metadata": {
        "id": "lAfruFkxNjsy",
        "colab": {
          "base_uri": "https://localhost:8080/"
        },
        "outputId": "aacaa603-8258-446d-c891-62522a00f81e"
      },
      "source": [
        "cim['Creative Type'].value_counts()"
      ],
      "execution_count": null,
      "outputs": [
        {
          "output_type": "execute_result",
          "data": {
            "text/plain": [
              "native      21730\n",
              "display      7859\n",
              "video        1313\n",
              " display        1\n",
              " native         1\n",
              "Name: Creative Type, dtype: int64"
            ]
          },
          "metadata": {
            "tags": []
          },
          "execution_count": 5
        }
      ]
    },
    {
      "cell_type": "code",
      "metadata": {
        "id": "25xbNGsgNtYh",
        "colab": {
          "base_uri": "https://localhost:8080/",
          "height": 52
        },
        "outputId": "30247b4f-6168-4212-bbad-68aacb97c7b1"
      },
      "source": [
        "# As we see in the Creative type column , there are spaces before the values so we can remove them\n",
        "str(cim['Creative Type']).strip('')"
      ],
      "execution_count": null,
      "outputs": [
        {
          "output_type": "execute_result",
          "data": {
            "application/vnd.google.colaboratory.intrinsic+json": {
              "type": "string"
            },
            "text/plain": [
              "'0         native\\n1         native\\n2         native\\n3         native\\n4         native\\n          ...   \\n30900     native\\n30901     native\\n30902     native\\n30903     native\\n30904    display\\nName: Creative Type, Length: 30905, dtype: object'"
            ]
          },
          "metadata": {
            "tags": []
          },
          "execution_count": 6
        }
      ]
    },
    {
      "cell_type": "code",
      "metadata": {
        "id": "dt-paXrROQzC"
      },
      "source": [
        "cim['Creative Type'] = cim['Creative Type'].replace(' native','native')\n",
        "cim['Creative Type'] = cim['Creative Type'].replace(' display','display')"
      ],
      "execution_count": null,
      "outputs": []
    },
    {
      "cell_type": "code",
      "metadata": {
        "id": "VDK8v_LMOJlf",
        "colab": {
          "base_uri": "https://localhost:8080/"
        },
        "outputId": "c4318334-ebdf-4ba4-ec61-af523d7342c9"
      },
      "source": [
        "cim['Creative Type'].value_counts()"
      ],
      "execution_count": null,
      "outputs": [
        {
          "output_type": "execute_result",
          "data": {
            "text/plain": [
              "native     21731\n",
              "display     7860\n",
              "video       1313\n",
              "Name: Creative Type, dtype: int64"
            ]
          },
          "metadata": {
            "tags": []
          },
          "execution_count": 8
        }
      ]
    },
    {
      "cell_type": "code",
      "metadata": {
        "id": "Mmuz8QXJ6DAN"
      },
      "source": [
        "cim.rename(columns={'creative ID':'Creative ID'},inplace=True)"
      ],
      "execution_count": null,
      "outputs": []
    },
    {
      "cell_type": "markdown",
      "metadata": {
        "id": "xhiSlUTcOtLc"
      },
      "source": [
        "## The Data table "
      ]
    },
    {
      "cell_type": "code",
      "metadata": {
        "id": "g7AKwBkb3ats",
        "colab": {
          "base_uri": "https://localhost:8080/",
          "height": 195
        },
        "outputId": "826be585-d5f9-4db8-b012-630b3e919779"
      },
      "source": [
        "data = pd.read_excel('Data - Jan 17.xlsx')\n",
        "data.head()"
      ],
      "execution_count": null,
      "outputs": [
        {
          "output_type": "execute_result",
          "data": {
            "text/html": [
              "<div>\n",
              "<style scoped>\n",
              "    .dataframe tbody tr th:only-of-type {\n",
              "        vertical-align: middle;\n",
              "    }\n",
              "\n",
              "    .dataframe tbody tr th {\n",
              "        vertical-align: top;\n",
              "    }\n",
              "\n",
              "    .dataframe thead th {\n",
              "        text-align: right;\n",
              "    }\n",
              "</style>\n",
              "<table border=\"1\" class=\"dataframe\">\n",
              "  <thead>\n",
              "    <tr style=\"text-align: right;\">\n",
              "      <th></th>\n",
              "      <th>Advertiser ID</th>\n",
              "      <th>Campaign ID</th>\n",
              "      <th>Creative ID</th>\n",
              "      <th>Device Type</th>\n",
              "      <th>Spend</th>\n",
              "      <th>Impressions</th>\n",
              "      <th>Clicks</th>\n",
              "      <th>Video Started</th>\n",
              "      <th>Completed Video Views</th>\n",
              "    </tr>\n",
              "  </thead>\n",
              "  <tbody>\n",
              "    <tr>\n",
              "      <th>0</th>\n",
              "      <td>1.0</td>\n",
              "      <td>29614.0</td>\n",
              "      <td>101140</td>\n",
              "      <td>tablet-app</td>\n",
              "      <td>0.333799</td>\n",
              "      <td>56.0</td>\n",
              "      <td>0</td>\n",
              "      <td>0</td>\n",
              "      <td>0</td>\n",
              "    </tr>\n",
              "    <tr>\n",
              "      <th>1</th>\n",
              "      <td>1.0</td>\n",
              "      <td>29614.0</td>\n",
              "      <td>101140</td>\n",
              "      <td>tablet-web</td>\n",
              "      <td>2.501653</td>\n",
              "      <td>381.0</td>\n",
              "      <td>1</td>\n",
              "      <td>0</td>\n",
              "      <td>0</td>\n",
              "    </tr>\n",
              "    <tr>\n",
              "      <th>2</th>\n",
              "      <td>1.0</td>\n",
              "      <td>29614.0</td>\n",
              "      <td>101140</td>\n",
              "      <td>mobile-app</td>\n",
              "      <td>4.255218</td>\n",
              "      <td>668.0</td>\n",
              "      <td>1</td>\n",
              "      <td>0</td>\n",
              "      <td>0</td>\n",
              "    </tr>\n",
              "    <tr>\n",
              "      <th>3</th>\n",
              "      <td>1.0</td>\n",
              "      <td>29614.0</td>\n",
              "      <td>101140</td>\n",
              "      <td>mobile-web</td>\n",
              "      <td>13.224842</td>\n",
              "      <td>2111.0</td>\n",
              "      <td>2</td>\n",
              "      <td>0</td>\n",
              "      <td>0</td>\n",
              "    </tr>\n",
              "    <tr>\n",
              "      <th>4</th>\n",
              "      <td>1.0</td>\n",
              "      <td>29614.0</td>\n",
              "      <td>101140</td>\n",
              "      <td>desktop</td>\n",
              "      <td>19.750004</td>\n",
              "      <td>3413.0</td>\n",
              "      <td>6</td>\n",
              "      <td>0</td>\n",
              "      <td>0</td>\n",
              "    </tr>\n",
              "  </tbody>\n",
              "</table>\n",
              "</div>"
            ],
            "text/plain": [
              "   Advertiser ID  Campaign ID  ...  Video Started Completed Video Views\n",
              "0            1.0      29614.0  ...              0                     0\n",
              "1            1.0      29614.0  ...              0                     0\n",
              "2            1.0      29614.0  ...              0                     0\n",
              "3            1.0      29614.0  ...              0                     0\n",
              "4            1.0      29614.0  ...              0                     0\n",
              "\n",
              "[5 rows x 9 columns]"
            ]
          },
          "metadata": {
            "tags": []
          },
          "execution_count": 10
        }
      ]
    },
    {
      "cell_type": "code",
      "metadata": {
        "id": "X-Wqphss4lYD",
        "colab": {
          "base_uri": "https://localhost:8080/"
        },
        "outputId": "6df35498-d8e0-43a7-fa40-74e8f513771c"
      },
      "source": [
        "data.columns"
      ],
      "execution_count": null,
      "outputs": [
        {
          "output_type": "execute_result",
          "data": {
            "text/plain": [
              "Index(['Advertiser ID', 'Campaign ID', 'Creative ID', 'Device Type', 'Spend',\n",
              "       'Impressions', 'Clicks', 'Video Started', 'Completed Video Views'],\n",
              "      dtype='object')"
            ]
          },
          "metadata": {
            "tags": []
          },
          "execution_count": 11
        }
      ]
    },
    {
      "cell_type": "code",
      "metadata": {
        "id": "eJswWNxeglYY",
        "colab": {
          "base_uri": "https://localhost:8080/"
        },
        "outputId": "c9523615-b584-4751-e158-6764b893bf28"
      },
      "source": [
        "data['Video Started'].value_counts()"
      ],
      "execution_count": null,
      "outputs": [
        {
          "output_type": "execute_result",
          "data": {
            "text/plain": [
              "0       129166\n",
              "1          529\n",
              "2          285\n",
              "3          188\n",
              "4          134\n",
              "         ...  \n",
              "590          1\n",
              "4684         1\n",
              "8778         1\n",
              "462          1\n",
              "2366         1\n",
              "Name: Video Started, Length: 4589, dtype: int64"
            ]
          },
          "metadata": {
            "tags": []
          },
          "execution_count": 12
        }
      ]
    },
    {
      "cell_type": "code",
      "metadata": {
        "id": "hhk1jPMAPHby",
        "colab": {
          "base_uri": "https://localhost:8080/"
        },
        "outputId": "dcad6a26-f50c-4021-8951-80ade561f3a7"
      },
      "source": [
        "data.info()"
      ],
      "execution_count": null,
      "outputs": [
        {
          "output_type": "stream",
          "text": [
            "<class 'pandas.core.frame.DataFrame'>\n",
            "RangeIndex: 139696 entries, 0 to 139695\n",
            "Data columns (total 9 columns):\n",
            " #   Column                 Non-Null Count   Dtype  \n",
            "---  ------                 --------------   -----  \n",
            " 0   Advertiser ID          139693 non-null  float64\n",
            " 1   Campaign ID            139693 non-null  float64\n",
            " 2   Creative ID            139696 non-null  int64  \n",
            " 3   Device Type            139696 non-null  object \n",
            " 4   Spend                  139696 non-null  float64\n",
            " 5   Impressions            139696 non-null  float64\n",
            " 6   Clicks                 139696 non-null  int64  \n",
            " 7   Video Started          139696 non-null  int64  \n",
            " 8   Completed Video Views  139696 non-null  int64  \n",
            "dtypes: float64(4), int64(4), object(1)\n",
            "memory usage: 9.6+ MB\n"
          ],
          "name": "stdout"
        }
      ]
    },
    {
      "cell_type": "markdown",
      "metadata": {
        "id": "MbQiOGDUPAKq"
      },
      "source": [
        "## The Video Mapping Table"
      ]
    },
    {
      "cell_type": "code",
      "metadata": {
        "id": "VRHj3sg73mrm",
        "colab": {
          "base_uri": "https://localhost:8080/",
          "height": 195
        },
        "outputId": "25e200b7-71c8-4435-a8e6-cf4bf3dc94aa"
      },
      "source": [
        "vm = pd.read_excel('Video Mapping.xlsx')\n",
        "vm.head()"
      ],
      "execution_count": null,
      "outputs": [
        {
          "output_type": "execute_result",
          "data": {
            "text/html": [
              "<div>\n",
              "<style scoped>\n",
              "    .dataframe tbody tr th:only-of-type {\n",
              "        vertical-align: middle;\n",
              "    }\n",
              "\n",
              "    .dataframe tbody tr th {\n",
              "        vertical-align: top;\n",
              "    }\n",
              "\n",
              "    .dataframe thead th {\n",
              "        text-align: right;\n",
              "    }\n",
              "</style>\n",
              "<table border=\"1\" class=\"dataframe\">\n",
              "  <thead>\n",
              "    <tr style=\"text-align: right;\">\n",
              "      <th></th>\n",
              "      <th>Creative ID</th>\n",
              "      <th>Video Type</th>\n",
              "      <th>Video Duration</th>\n",
              "    </tr>\n",
              "  </thead>\n",
              "  <tbody>\n",
              "    <tr>\n",
              "      <th>0</th>\n",
              "      <td>16663</td>\n",
              "      <td>outstream</td>\n",
              "      <td>15</td>\n",
              "    </tr>\n",
              "    <tr>\n",
              "      <th>1</th>\n",
              "      <td>16667</td>\n",
              "      <td>outstream</td>\n",
              "      <td>30</td>\n",
              "    </tr>\n",
              "    <tr>\n",
              "      <th>2</th>\n",
              "      <td>60320</td>\n",
              "      <td>outstream</td>\n",
              "      <td>15</td>\n",
              "    </tr>\n",
              "    <tr>\n",
              "      <th>3</th>\n",
              "      <td>60322</td>\n",
              "      <td>outstream</td>\n",
              "      <td>15</td>\n",
              "    </tr>\n",
              "    <tr>\n",
              "      <th>4</th>\n",
              "      <td>60324</td>\n",
              "      <td>outstream</td>\n",
              "      <td>30</td>\n",
              "    </tr>\n",
              "  </tbody>\n",
              "</table>\n",
              "</div>"
            ],
            "text/plain": [
              "   Creative ID Video Type Video Duration\n",
              "0        16663  outstream             15\n",
              "1        16667  outstream             30\n",
              "2        60320  outstream             15\n",
              "3        60322  outstream             15\n",
              "4        60324  outstream             30"
            ]
          },
          "metadata": {
            "tags": []
          },
          "execution_count": 14
        }
      ]
    },
    {
      "cell_type": "code",
      "metadata": {
        "id": "gVqVSH8W4ny-",
        "colab": {
          "base_uri": "https://localhost:8080/"
        },
        "outputId": "3956e0bc-bc27-4944-b3cc-3a71e5a65840"
      },
      "source": [
        "vm.shape"
      ],
      "execution_count": null,
      "outputs": [
        {
          "output_type": "execute_result",
          "data": {
            "text/plain": [
              "(1313, 3)"
            ]
          },
          "metadata": {
            "tags": []
          },
          "execution_count": 15
        }
      ]
    },
    {
      "cell_type": "code",
      "metadata": {
        "id": "mJ2BFoLkthHI",
        "colab": {
          "base_uri": "https://localhost:8080/"
        },
        "outputId": "041a9a26-2fcb-4559-f1eb-11dac0ca5996"
      },
      "source": [
        "vm['Video Duration'].value_counts()"
      ],
      "execution_count": null,
      "outputs": [
        {
          "output_type": "execute_result",
          "data": {
            "text/plain": [
              "15      438\n",
              "30      279\n",
              "3       133\n",
              "6        57\n",
              "1        26\n",
              "       ... \n",
              "6000      1\n",
              "46        1\n",
              "45        1\n",
              "43        1\n",
              "107       1\n",
              "Name: Video Duration, Length: 85, dtype: int64"
            ]
          },
          "metadata": {
            "tags": []
          },
          "execution_count": 16
        }
      ]
    },
    {
      "cell_type": "code",
      "metadata": {
        "id": "bO4S7d0zPNZA",
        "colab": {
          "base_uri": "https://localhost:8080/"
        },
        "outputId": "b4e0349a-ddf9-4bc6-a283-fb244e8303f8"
      },
      "source": [
        "vm.info()"
      ],
      "execution_count": null,
      "outputs": [
        {
          "output_type": "stream",
          "text": [
            "<class 'pandas.core.frame.DataFrame'>\n",
            "RangeIndex: 1313 entries, 0 to 1312\n",
            "Data columns (total 3 columns):\n",
            " #   Column          Non-Null Count  Dtype \n",
            "---  ------          --------------  ----- \n",
            " 0   Creative ID     1313 non-null   int64 \n",
            " 1   Video Type      1300 non-null   object\n",
            " 2   Video Duration  1313 non-null   object\n",
            "dtypes: int64(1), object(2)\n",
            "memory usage: 30.9+ KB\n"
          ],
          "name": "stdout"
        }
      ]
    },
    {
      "cell_type": "markdown",
      "metadata": {
        "id": "3yo6ARaCPaBP"
      },
      "source": [
        "So here the Video Type column has some null values , we need to impute them and check for any inconsistencies in data"
      ]
    },
    {
      "cell_type": "code",
      "metadata": {
        "id": "Xp2_FY24PmEE",
        "colab": {
          "base_uri": "https://localhost:8080/"
        },
        "outputId": "d39d89f9-1725-4f3d-cf18-700d15273bfe"
      },
      "source": [
        "vm['Video Type'].value_counts()"
      ],
      "execution_count": null,
      "outputs": [
        {
          "output_type": "execute_result",
          "data": {
            "text/plain": [
              "instream         527\n",
              "outstream        498\n",
              "interstitial     270\n",
              " interstitial      2\n",
              "instreatial        2\n",
              "outstrea           1\n",
              "Name: Video Type, dtype: int64"
            ]
          },
          "metadata": {
            "tags": []
          },
          "execution_count": 18
        }
      ]
    },
    {
      "cell_type": "code",
      "metadata": {
        "id": "B78zC8yWP0a2"
      },
      "source": [
        "vm['Video Type'] = vm['Video Type'].replace(' interstitial','interstitial')\n",
        "vm['Video Type'] = vm['Video Type'].replace('instreatial','interstitial')\n",
        "vm['Video Type'] = vm['Video Type'].replace('outstrea','outstream')\n"
      ],
      "execution_count": null,
      "outputs": []
    },
    {
      "cell_type": "markdown",
      "metadata": {
        "id": "7Ysq5AgXQYv9"
      },
      "source": [
        "checking to confirm the changes..."
      ]
    },
    {
      "cell_type": "code",
      "metadata": {
        "id": "LZMLW-M9QVPx",
        "colab": {
          "base_uri": "https://localhost:8080/"
        },
        "outputId": "d1fadbda-b088-4cfd-9edb-7e73d788ae69"
      },
      "source": [
        "vm['Video Type'].value_counts()"
      ],
      "execution_count": null,
      "outputs": [
        {
          "output_type": "execute_result",
          "data": {
            "text/plain": [
              "instream        527\n",
              "outstream       499\n",
              "interstitial    274\n",
              "Name: Video Type, dtype: int64"
            ]
          },
          "metadata": {
            "tags": []
          },
          "execution_count": 20
        }
      ]
    },
    {
      "cell_type": "markdown",
      "metadata": {
        "id": "ev0zHvUqRBWq"
      },
      "source": [
        "Now for the missing values , we will impute them with the most frequent values"
      ]
    },
    {
      "cell_type": "code",
      "metadata": {
        "id": "Flr1V0_eRJe7",
        "colab": {
          "base_uri": "https://localhost:8080/",
          "height": 402
        },
        "outputId": "5ac85aae-39f5-4659-db3d-e3325c4d1774"
      },
      "source": [
        "# for each column, get value counts in decreasing order and take the index (value) of most common class\n",
        "vm = vm.apply(lambda x: x.fillna(x.value_counts().index[0]))\n",
        "vm"
      ],
      "execution_count": null,
      "outputs": [
        {
          "output_type": "execute_result",
          "data": {
            "text/html": [
              "<div>\n",
              "<style scoped>\n",
              "    .dataframe tbody tr th:only-of-type {\n",
              "        vertical-align: middle;\n",
              "    }\n",
              "\n",
              "    .dataframe tbody tr th {\n",
              "        vertical-align: top;\n",
              "    }\n",
              "\n",
              "    .dataframe thead th {\n",
              "        text-align: right;\n",
              "    }\n",
              "</style>\n",
              "<table border=\"1\" class=\"dataframe\">\n",
              "  <thead>\n",
              "    <tr style=\"text-align: right;\">\n",
              "      <th></th>\n",
              "      <th>Creative ID</th>\n",
              "      <th>Video Type</th>\n",
              "      <th>Video Duration</th>\n",
              "    </tr>\n",
              "  </thead>\n",
              "  <tbody>\n",
              "    <tr>\n",
              "      <th>0</th>\n",
              "      <td>16663</td>\n",
              "      <td>outstream</td>\n",
              "      <td>15</td>\n",
              "    </tr>\n",
              "    <tr>\n",
              "      <th>1</th>\n",
              "      <td>16667</td>\n",
              "      <td>outstream</td>\n",
              "      <td>30</td>\n",
              "    </tr>\n",
              "    <tr>\n",
              "      <th>2</th>\n",
              "      <td>60320</td>\n",
              "      <td>outstream</td>\n",
              "      <td>15</td>\n",
              "    </tr>\n",
              "    <tr>\n",
              "      <th>3</th>\n",
              "      <td>60322</td>\n",
              "      <td>outstream</td>\n",
              "      <td>15</td>\n",
              "    </tr>\n",
              "    <tr>\n",
              "      <th>4</th>\n",
              "      <td>60324</td>\n",
              "      <td>outstream</td>\n",
              "      <td>30</td>\n",
              "    </tr>\n",
              "    <tr>\n",
              "      <th>...</th>\n",
              "      <td>...</td>\n",
              "      <td>...</td>\n",
              "      <td>...</td>\n",
              "    </tr>\n",
              "    <tr>\n",
              "      <th>1308</th>\n",
              "      <td>144016</td>\n",
              "      <td>outstream</td>\n",
              "      <td>2</td>\n",
              "    </tr>\n",
              "    <tr>\n",
              "      <th>1309</th>\n",
              "      <td>144017</td>\n",
              "      <td>outstream</td>\n",
              "      <td>2</td>\n",
              "    </tr>\n",
              "    <tr>\n",
              "      <th>1310</th>\n",
              "      <td>144018</td>\n",
              "      <td>interstitial</td>\n",
              "      <td>14</td>\n",
              "    </tr>\n",
              "    <tr>\n",
              "      <th>1311</th>\n",
              "      <td>144019</td>\n",
              "      <td>interstitial</td>\n",
              "      <td>27</td>\n",
              "    </tr>\n",
              "    <tr>\n",
              "      <th>1312</th>\n",
              "      <td>144025</td>\n",
              "      <td>outstream</td>\n",
              "      <td>15</td>\n",
              "    </tr>\n",
              "  </tbody>\n",
              "</table>\n",
              "<p>1313 rows × 3 columns</p>\n",
              "</div>"
            ],
            "text/plain": [
              "      Creative ID    Video Type Video Duration\n",
              "0           16663     outstream             15\n",
              "1           16667     outstream             30\n",
              "2           60320     outstream             15\n",
              "3           60322     outstream             15\n",
              "4           60324     outstream             30\n",
              "...           ...           ...            ...\n",
              "1308       144016     outstream              2\n",
              "1309       144017     outstream              2\n",
              "1310       144018  interstitial             14\n",
              "1311       144019  interstitial             27\n",
              "1312       144025     outstream             15\n",
              "\n",
              "[1313 rows x 3 columns]"
            ]
          },
          "metadata": {
            "tags": []
          },
          "execution_count": 21
        }
      ]
    },
    {
      "cell_type": "code",
      "metadata": {
        "id": "dD12nq7QU1xX"
      },
      "source": [
        "vm['Creative ID'] = vm['Creative ID'].astype('int')"
      ],
      "execution_count": null,
      "outputs": []
    },
    {
      "cell_type": "code",
      "metadata": {
        "id": "-0mY3anMTUbr",
        "colab": {
          "base_uri": "https://localhost:8080/"
        },
        "outputId": "6efdc7d2-7537-444f-bda3-a00ed8fe16f5"
      },
      "source": [
        "vm.info()"
      ],
      "execution_count": null,
      "outputs": [
        {
          "output_type": "stream",
          "text": [
            "<class 'pandas.core.frame.DataFrame'>\n",
            "RangeIndex: 1313 entries, 0 to 1312\n",
            "Data columns (total 3 columns):\n",
            " #   Column          Non-Null Count  Dtype \n",
            "---  ------          --------------  ----- \n",
            " 0   Creative ID     1313 non-null   int64 \n",
            " 1   Video Type      1313 non-null   object\n",
            " 2   Video Duration  1313 non-null   object\n",
            "dtypes: int64(1), object(2)\n",
            "memory usage: 30.9+ KB\n"
          ],
          "name": "stdout"
        }
      ]
    },
    {
      "cell_type": "markdown",
      "metadata": {
        "id": "aSjfCQc1Tr70"
      },
      "source": [
        "## Merging the Tables "
      ]
    },
    {
      "cell_type": "code",
      "metadata": {
        "id": "mqhHhhW633tr",
        "colab": {
          "base_uri": "https://localhost:8080/",
          "height": 195
        },
        "outputId": "e430a621-823f-450a-ac52-e177f1cb7028"
      },
      "source": [
        "# merging the data for better understanding of data\n",
        "# first merge \"data\" and \"cim\" dataframes\n",
        "\n",
        "dm1 = data.merge(cim,how = 'left', left_on='Creative ID', right_on='Creative ID')\n",
        "dm1.head()"
      ],
      "execution_count": null,
      "outputs": [
        {
          "output_type": "execute_result",
          "data": {
            "text/html": [
              "<div>\n",
              "<style scoped>\n",
              "    .dataframe tbody tr th:only-of-type {\n",
              "        vertical-align: middle;\n",
              "    }\n",
              "\n",
              "    .dataframe tbody tr th {\n",
              "        vertical-align: top;\n",
              "    }\n",
              "\n",
              "    .dataframe thead th {\n",
              "        text-align: right;\n",
              "    }\n",
              "</style>\n",
              "<table border=\"1\" class=\"dataframe\">\n",
              "  <thead>\n",
              "    <tr style=\"text-align: right;\">\n",
              "      <th></th>\n",
              "      <th>Advertiser ID</th>\n",
              "      <th>Campaign ID</th>\n",
              "      <th>Creative ID</th>\n",
              "      <th>Device Type</th>\n",
              "      <th>Spend</th>\n",
              "      <th>Impressions</th>\n",
              "      <th>Clicks</th>\n",
              "      <th>Video Started</th>\n",
              "      <th>Completed Video Views</th>\n",
              "      <th>Creative Type</th>\n",
              "    </tr>\n",
              "  </thead>\n",
              "  <tbody>\n",
              "    <tr>\n",
              "      <th>0</th>\n",
              "      <td>1.0</td>\n",
              "      <td>29614.0</td>\n",
              "      <td>101140</td>\n",
              "      <td>tablet-app</td>\n",
              "      <td>0.333799</td>\n",
              "      <td>56.0</td>\n",
              "      <td>0</td>\n",
              "      <td>0</td>\n",
              "      <td>0</td>\n",
              "      <td>native</td>\n",
              "    </tr>\n",
              "    <tr>\n",
              "      <th>1</th>\n",
              "      <td>1.0</td>\n",
              "      <td>29614.0</td>\n",
              "      <td>101140</td>\n",
              "      <td>tablet-web</td>\n",
              "      <td>2.501653</td>\n",
              "      <td>381.0</td>\n",
              "      <td>1</td>\n",
              "      <td>0</td>\n",
              "      <td>0</td>\n",
              "      <td>native</td>\n",
              "    </tr>\n",
              "    <tr>\n",
              "      <th>2</th>\n",
              "      <td>1.0</td>\n",
              "      <td>29614.0</td>\n",
              "      <td>101140</td>\n",
              "      <td>mobile-app</td>\n",
              "      <td>4.255218</td>\n",
              "      <td>668.0</td>\n",
              "      <td>1</td>\n",
              "      <td>0</td>\n",
              "      <td>0</td>\n",
              "      <td>native</td>\n",
              "    </tr>\n",
              "    <tr>\n",
              "      <th>3</th>\n",
              "      <td>1.0</td>\n",
              "      <td>29614.0</td>\n",
              "      <td>101140</td>\n",
              "      <td>mobile-web</td>\n",
              "      <td>13.224842</td>\n",
              "      <td>2111.0</td>\n",
              "      <td>2</td>\n",
              "      <td>0</td>\n",
              "      <td>0</td>\n",
              "      <td>native</td>\n",
              "    </tr>\n",
              "    <tr>\n",
              "      <th>4</th>\n",
              "      <td>1.0</td>\n",
              "      <td>29614.0</td>\n",
              "      <td>101140</td>\n",
              "      <td>desktop</td>\n",
              "      <td>19.750004</td>\n",
              "      <td>3413.0</td>\n",
              "      <td>6</td>\n",
              "      <td>0</td>\n",
              "      <td>0</td>\n",
              "      <td>native</td>\n",
              "    </tr>\n",
              "  </tbody>\n",
              "</table>\n",
              "</div>"
            ],
            "text/plain": [
              "   Advertiser ID  Campaign ID  ...  Completed Video Views Creative Type\n",
              "0            1.0      29614.0  ...                      0        native\n",
              "1            1.0      29614.0  ...                      0        native\n",
              "2            1.0      29614.0  ...                      0        native\n",
              "3            1.0      29614.0  ...                      0        native\n",
              "4            1.0      29614.0  ...                      0        native\n",
              "\n",
              "[5 rows x 10 columns]"
            ]
          },
          "metadata": {
            "tags": []
          },
          "execution_count": 24
        }
      ]
    },
    {
      "cell_type": "code",
      "metadata": {
        "id": "4OwOfv1o5zUc",
        "colab": {
          "base_uri": "https://localhost:8080/"
        },
        "outputId": "20189ece-8a3c-4799-f022-6fbb7f703967"
      },
      "source": [
        "dm1.shape"
      ],
      "execution_count": null,
      "outputs": [
        {
          "output_type": "execute_result",
          "data": {
            "text/plain": [
              "(139696, 10)"
            ]
          },
          "metadata": {
            "tags": []
          },
          "execution_count": 25
        }
      ]
    },
    {
      "cell_type": "code",
      "metadata": {
        "id": "PY6H4IgJsd4N",
        "colab": {
          "base_uri": "https://localhost:8080/"
        },
        "outputId": "f3e3beba-5fc1-484a-c8fc-6f345d386459"
      },
      "source": [
        "dm1['Creative ID'].nunique(), vm['Creative ID'].nunique()"
      ],
      "execution_count": null,
      "outputs": [
        {
          "output_type": "execute_result",
          "data": {
            "text/plain": [
              "(30905, 1313)"
            ]
          },
          "metadata": {
            "tags": []
          },
          "execution_count": 26
        }
      ]
    },
    {
      "cell_type": "code",
      "metadata": {
        "id": "r0uiJGEL6khU"
      },
      "source": [
        "dm2 = dm1.merge(vm,how = 'left', left_on='Creative ID', right_on='Creative ID')\n",
        "# dm2['Video Duration'] = dm2['Video Duration'].astype('int')"
      ],
      "execution_count": null,
      "outputs": []
    },
    {
      "cell_type": "code",
      "metadata": {
        "id": "_iHpKj4WuLVW",
        "colab": {
          "base_uri": "https://localhost:8080/"
        },
        "outputId": "bd672240-e515-4050-e95d-0061bea46402"
      },
      "source": [
        "dm2['Video Duration'].value_counts().sum()"
      ],
      "execution_count": null,
      "outputs": [
        {
          "output_type": "execute_result",
          "data": {
            "text/plain": [
              "10624"
            ]
          },
          "metadata": {
            "tags": []
          },
          "execution_count": 28
        }
      ]
    },
    {
      "cell_type": "code",
      "metadata": {
        "id": "f6npB-92shDh",
        "colab": {
          "base_uri": "https://localhost:8080/"
        },
        "outputId": "29379896-e08a-4b92-ad6c-d5dd015735d2"
      },
      "source": [
        "dm2['Video Duration'].isnull().sum()"
      ],
      "execution_count": null,
      "outputs": [
        {
          "output_type": "execute_result",
          "data": {
            "text/plain": [
              "129072"
            ]
          },
          "metadata": {
            "tags": []
          },
          "execution_count": 29
        }
      ]
    },
    {
      "cell_type": "code",
      "metadata": {
        "id": "kQqLLBc1ud6I",
        "colab": {
          "base_uri": "https://localhost:8080/"
        },
        "outputId": "e3460625-60a2-4539-e4e8-71437c57e156"
      },
      "source": [
        "# Changing the nan values in Video Duration column to 0\n",
        "dm2['Video Duration'].fillna(0,inplace=True)\n",
        "dm2['Video Duration'].isnull().sum()"
      ],
      "execution_count": null,
      "outputs": [
        {
          "output_type": "execute_result",
          "data": {
            "text/plain": [
              "0"
            ]
          },
          "metadata": {
            "tags": []
          },
          "execution_count": 30
        }
      ]
    },
    {
      "cell_type": "code",
      "metadata": {
        "id": "4QimTH9gwwct",
        "colab": {
          "base_uri": "https://localhost:8080/"
        },
        "outputId": "70eecf1f-fc4d-4246-d9da-30acc61ea228"
      },
      "source": [
        "dm2.info()"
      ],
      "execution_count": null,
      "outputs": [
        {
          "output_type": "stream",
          "text": [
            "<class 'pandas.core.frame.DataFrame'>\n",
            "Int64Index: 139696 entries, 0 to 139695\n",
            "Data columns (total 12 columns):\n",
            " #   Column                 Non-Null Count   Dtype  \n",
            "---  ------                 --------------   -----  \n",
            " 0   Advertiser ID          139693 non-null  float64\n",
            " 1   Campaign ID            139693 non-null  float64\n",
            " 2   Creative ID            139696 non-null  int64  \n",
            " 3   Device Type            139696 non-null  object \n",
            " 4   Spend                  139696 non-null  float64\n",
            " 5   Impressions            139696 non-null  float64\n",
            " 6   Clicks                 139696 non-null  int64  \n",
            " 7   Video Started          139696 non-null  int64  \n",
            " 8   Completed Video Views  139696 non-null  int64  \n",
            " 9   Creative Type          139691 non-null  object \n",
            " 10  Video Type             10624 non-null   object \n",
            " 11  Video Duration         139696 non-null  object \n",
            "dtypes: float64(4), int64(4), object(4)\n",
            "memory usage: 13.9+ MB\n"
          ],
          "name": "stdout"
        }
      ]
    },
    {
      "cell_type": "code",
      "metadata": {
        "id": "F7U0G7nhwLFA",
        "colab": {
          "base_uri": "https://localhost:8080/"
        },
        "outputId": "437aa49e-9a23-447b-adfe-232172233a01"
      },
      "source": [
        "dm2['Video Duration'] = dm2['Video Duration'].astype('str')\n",
        "dm2['Video Duration'].value_counts()"
      ],
      "execution_count": null,
      "outputs": [
        {
          "output_type": "execute_result",
          "data": {
            "text/plain": [
              "0      129072\n",
              "15       3609\n",
              "30       2029\n",
              "3        1222\n",
              "6         352\n",
              "        ...  \n",
              "57          6\n",
              "45          6\n",
              "107         3\n",
              "126         3\n",
              "202         3\n",
              "Name: Video Duration, Length: 86, dtype: int64"
            ]
          },
          "metadata": {
            "tags": []
          },
          "execution_count": 32
        }
      ]
    },
    {
      "cell_type": "code",
      "metadata": {
        "id": "syQ22pYYxNdc"
      },
      "source": [
        "dm2.where(dm2 =='00:00:30')\n",
        "\n",
        "dm2.loc[dm2['Video Duration'] == '00:00:30']\n",
        "# Considering the Video Duration in Seconds we will convert this format to 30 and then change it to the integer format\n",
        "\n",
        "dm2['Video Duration'] = dm2['Video Duration'].replace(\"00:00:30\",30) \n",
        "dm2['Video Duration'] = dm2['Video Duration'].astype('int')"
      ],
      "execution_count": null,
      "outputs": []
    },
    {
      "cell_type": "code",
      "metadata": {
        "id": "EILhheicyxuB",
        "colab": {
          "base_uri": "https://localhost:8080/"
        },
        "outputId": "38bded70-f0b0-4cb7-9128-c2dbf05853f0"
      },
      "source": [
        "dm2['Video Type'].isnull().sum()\n",
        "# Changing the nan values in Video Duration column to 0\n",
        "dm2['Video Duration'].fillna(\"NA\",inplace=True)\n",
        "dm2['Video Duration'].isnull().sum()"
      ],
      "execution_count": null,
      "outputs": [
        {
          "output_type": "execute_result",
          "data": {
            "text/plain": [
              "0"
            ]
          },
          "metadata": {
            "tags": []
          },
          "execution_count": 34
        }
      ]
    },
    {
      "cell_type": "code",
      "metadata": {
        "id": "iOZI-7gk7fK_",
        "colab": {
          "base_uri": "https://localhost:8080/",
          "height": 212
        },
        "outputId": "c26d54f9-ff90-4482-e711-f19301ec9bf4"
      },
      "source": [
        "dm2.head()"
      ],
      "execution_count": null,
      "outputs": [
        {
          "output_type": "execute_result",
          "data": {
            "text/html": [
              "<div>\n",
              "<style scoped>\n",
              "    .dataframe tbody tr th:only-of-type {\n",
              "        vertical-align: middle;\n",
              "    }\n",
              "\n",
              "    .dataframe tbody tr th {\n",
              "        vertical-align: top;\n",
              "    }\n",
              "\n",
              "    .dataframe thead th {\n",
              "        text-align: right;\n",
              "    }\n",
              "</style>\n",
              "<table border=\"1\" class=\"dataframe\">\n",
              "  <thead>\n",
              "    <tr style=\"text-align: right;\">\n",
              "      <th></th>\n",
              "      <th>Advertiser ID</th>\n",
              "      <th>Campaign ID</th>\n",
              "      <th>Creative ID</th>\n",
              "      <th>Device Type</th>\n",
              "      <th>Spend</th>\n",
              "      <th>Impressions</th>\n",
              "      <th>Clicks</th>\n",
              "      <th>Video Started</th>\n",
              "      <th>Completed Video Views</th>\n",
              "      <th>Creative Type</th>\n",
              "      <th>Video Type</th>\n",
              "      <th>Video Duration</th>\n",
              "    </tr>\n",
              "  </thead>\n",
              "  <tbody>\n",
              "    <tr>\n",
              "      <th>0</th>\n",
              "      <td>1.0</td>\n",
              "      <td>29614.0</td>\n",
              "      <td>101140</td>\n",
              "      <td>tablet-app</td>\n",
              "      <td>0.333799</td>\n",
              "      <td>56.0</td>\n",
              "      <td>0</td>\n",
              "      <td>0</td>\n",
              "      <td>0</td>\n",
              "      <td>native</td>\n",
              "      <td>NaN</td>\n",
              "      <td>0</td>\n",
              "    </tr>\n",
              "    <tr>\n",
              "      <th>1</th>\n",
              "      <td>1.0</td>\n",
              "      <td>29614.0</td>\n",
              "      <td>101140</td>\n",
              "      <td>tablet-web</td>\n",
              "      <td>2.501653</td>\n",
              "      <td>381.0</td>\n",
              "      <td>1</td>\n",
              "      <td>0</td>\n",
              "      <td>0</td>\n",
              "      <td>native</td>\n",
              "      <td>NaN</td>\n",
              "      <td>0</td>\n",
              "    </tr>\n",
              "    <tr>\n",
              "      <th>2</th>\n",
              "      <td>1.0</td>\n",
              "      <td>29614.0</td>\n",
              "      <td>101140</td>\n",
              "      <td>mobile-app</td>\n",
              "      <td>4.255218</td>\n",
              "      <td>668.0</td>\n",
              "      <td>1</td>\n",
              "      <td>0</td>\n",
              "      <td>0</td>\n",
              "      <td>native</td>\n",
              "      <td>NaN</td>\n",
              "      <td>0</td>\n",
              "    </tr>\n",
              "    <tr>\n",
              "      <th>3</th>\n",
              "      <td>1.0</td>\n",
              "      <td>29614.0</td>\n",
              "      <td>101140</td>\n",
              "      <td>mobile-web</td>\n",
              "      <td>13.224842</td>\n",
              "      <td>2111.0</td>\n",
              "      <td>2</td>\n",
              "      <td>0</td>\n",
              "      <td>0</td>\n",
              "      <td>native</td>\n",
              "      <td>NaN</td>\n",
              "      <td>0</td>\n",
              "    </tr>\n",
              "    <tr>\n",
              "      <th>4</th>\n",
              "      <td>1.0</td>\n",
              "      <td>29614.0</td>\n",
              "      <td>101140</td>\n",
              "      <td>desktop</td>\n",
              "      <td>19.750004</td>\n",
              "      <td>3413.0</td>\n",
              "      <td>6</td>\n",
              "      <td>0</td>\n",
              "      <td>0</td>\n",
              "      <td>native</td>\n",
              "      <td>NaN</td>\n",
              "      <td>0</td>\n",
              "    </tr>\n",
              "  </tbody>\n",
              "</table>\n",
              "</div>"
            ],
            "text/plain": [
              "   Advertiser ID  Campaign ID  ...  Video Type Video Duration\n",
              "0            1.0      29614.0  ...         NaN              0\n",
              "1            1.0      29614.0  ...         NaN              0\n",
              "2            1.0      29614.0  ...         NaN              0\n",
              "3            1.0      29614.0  ...         NaN              0\n",
              "4            1.0      29614.0  ...         NaN              0\n",
              "\n",
              "[5 rows x 12 columns]"
            ]
          },
          "metadata": {
            "tags": []
          },
          "execution_count": 35
        }
      ]
    },
    {
      "cell_type": "code",
      "metadata": {
        "id": "-UwkG5RyW-HX",
        "colab": {
          "base_uri": "https://localhost:8080/"
        },
        "outputId": "7923e7e8-4b3f-4e3d-c118-04374629fc58"
      },
      "source": [
        "dm2.info()"
      ],
      "execution_count": null,
      "outputs": [
        {
          "output_type": "stream",
          "text": [
            "<class 'pandas.core.frame.DataFrame'>\n",
            "Int64Index: 139696 entries, 0 to 139695\n",
            "Data columns (total 12 columns):\n",
            " #   Column                 Non-Null Count   Dtype  \n",
            "---  ------                 --------------   -----  \n",
            " 0   Advertiser ID          139693 non-null  float64\n",
            " 1   Campaign ID            139693 non-null  float64\n",
            " 2   Creative ID            139696 non-null  int64  \n",
            " 3   Device Type            139696 non-null  object \n",
            " 4   Spend                  139696 non-null  float64\n",
            " 5   Impressions            139696 non-null  float64\n",
            " 6   Clicks                 139696 non-null  int64  \n",
            " 7   Video Started          139696 non-null  int64  \n",
            " 8   Completed Video Views  139696 non-null  int64  \n",
            " 9   Creative Type          139691 non-null  object \n",
            " 10  Video Type             10624 non-null   object \n",
            " 11  Video Duration         139696 non-null  int64  \n",
            "dtypes: float64(4), int64(5), object(3)\n",
            "memory usage: 13.9+ MB\n"
          ],
          "name": "stdout"
        }
      ]
    },
    {
      "cell_type": "code",
      "metadata": {
        "id": "0wFbjUVxYujq",
        "colab": {
          "base_uri": "https://localhost:8080/"
        },
        "outputId": "d4e02398-f807-42ad-eff7-752a306ca4ae"
      },
      "source": [
        "dm2['Video Started'].value_counts()"
      ],
      "execution_count": null,
      "outputs": [
        {
          "output_type": "execute_result",
          "data": {
            "text/plain": [
              "0       129166\n",
              "1          529\n",
              "2          285\n",
              "3          188\n",
              "4          134\n",
              "         ...  \n",
              "590          1\n",
              "4684         1\n",
              "8778         1\n",
              "462          1\n",
              "2366         1\n",
              "Name: Video Started, Length: 4589, dtype: int64"
            ]
          },
          "metadata": {
            "tags": []
          },
          "execution_count": 37
        }
      ]
    },
    {
      "cell_type": "code",
      "metadata": {
        "id": "RPeI64Z9Y8qf",
        "colab": {
          "base_uri": "https://localhost:8080/"
        },
        "outputId": "8bb80a97-fc29-4741-c1e1-0f3af9da2652"
      },
      "source": [
        "dm2['Completed Video Views'].value_counts()"
      ],
      "execution_count": null,
      "outputs": [
        {
          "output_type": "execute_result",
          "data": {
            "text/plain": [
              "0        129584\n",
              "1           575\n",
              "2           292\n",
              "3           220\n",
              "4           171\n",
              "          ...  \n",
              "25701         1\n",
              "13423         1\n",
              "26085         1\n",
              "2236          1\n",
              "1791          1\n",
              "Name: Completed Video Views, Length: 3797, dtype: int64"
            ]
          },
          "metadata": {
            "tags": []
          },
          "execution_count": 38
        }
      ]
    },
    {
      "cell_type": "code",
      "metadata": {
        "id": "ufXLd1Hr7gaf",
        "colab": {
          "base_uri": "https://localhost:8080/"
        },
        "outputId": "725c6748-8dd1-4591-ce88-87304e67e05b"
      },
      "source": [
        "dm2.shape"
      ],
      "execution_count": null,
      "outputs": [
        {
          "output_type": "execute_result",
          "data": {
            "text/plain": [
              "(139696, 12)"
            ]
          },
          "metadata": {
            "tags": []
          },
          "execution_count": 39
        }
      ]
    },
    {
      "cell_type": "code",
      "metadata": {
        "id": "V9-AA37mWam7",
        "colab": {
          "base_uri": "https://localhost:8080/",
          "height": 203
        },
        "outputId": "394f447e-5aa2-4b70-96ce-1b9f15d9c417"
      },
      "source": [
        "# Now we need to add two columns 1.CTR ,2.Video_metrics\n",
        "\n",
        "dm2['CTR'] = np.round(dm2['Clicks']/dm2['Impressions'] , 4 )\n",
        "dm2['Video_completion_rate'] = dm2['Completed Video Views']/dm2['Video Started']\n",
        "dm2.head(3)"
      ],
      "execution_count": null,
      "outputs": [
        {
          "output_type": "execute_result",
          "data": {
            "text/html": [
              "<div>\n",
              "<style scoped>\n",
              "    .dataframe tbody tr th:only-of-type {\n",
              "        vertical-align: middle;\n",
              "    }\n",
              "\n",
              "    .dataframe tbody tr th {\n",
              "        vertical-align: top;\n",
              "    }\n",
              "\n",
              "    .dataframe thead th {\n",
              "        text-align: right;\n",
              "    }\n",
              "</style>\n",
              "<table border=\"1\" class=\"dataframe\">\n",
              "  <thead>\n",
              "    <tr style=\"text-align: right;\">\n",
              "      <th></th>\n",
              "      <th>Advertiser ID</th>\n",
              "      <th>Campaign ID</th>\n",
              "      <th>Creative ID</th>\n",
              "      <th>Device Type</th>\n",
              "      <th>Spend</th>\n",
              "      <th>Impressions</th>\n",
              "      <th>Clicks</th>\n",
              "      <th>Video Started</th>\n",
              "      <th>Completed Video Views</th>\n",
              "      <th>Creative Type</th>\n",
              "      <th>Video Type</th>\n",
              "      <th>Video Duration</th>\n",
              "      <th>CTR</th>\n",
              "      <th>Video_completion_rate</th>\n",
              "    </tr>\n",
              "  </thead>\n",
              "  <tbody>\n",
              "    <tr>\n",
              "      <th>0</th>\n",
              "      <td>1.0</td>\n",
              "      <td>29614.0</td>\n",
              "      <td>101140</td>\n",
              "      <td>tablet-app</td>\n",
              "      <td>0.333799</td>\n",
              "      <td>56.0</td>\n",
              "      <td>0</td>\n",
              "      <td>0</td>\n",
              "      <td>0</td>\n",
              "      <td>native</td>\n",
              "      <td>NaN</td>\n",
              "      <td>0</td>\n",
              "      <td>0.0000</td>\n",
              "      <td>NaN</td>\n",
              "    </tr>\n",
              "    <tr>\n",
              "      <th>1</th>\n",
              "      <td>1.0</td>\n",
              "      <td>29614.0</td>\n",
              "      <td>101140</td>\n",
              "      <td>tablet-web</td>\n",
              "      <td>2.501653</td>\n",
              "      <td>381.0</td>\n",
              "      <td>1</td>\n",
              "      <td>0</td>\n",
              "      <td>0</td>\n",
              "      <td>native</td>\n",
              "      <td>NaN</td>\n",
              "      <td>0</td>\n",
              "      <td>0.0026</td>\n",
              "      <td>NaN</td>\n",
              "    </tr>\n",
              "    <tr>\n",
              "      <th>2</th>\n",
              "      <td>1.0</td>\n",
              "      <td>29614.0</td>\n",
              "      <td>101140</td>\n",
              "      <td>mobile-app</td>\n",
              "      <td>4.255218</td>\n",
              "      <td>668.0</td>\n",
              "      <td>1</td>\n",
              "      <td>0</td>\n",
              "      <td>0</td>\n",
              "      <td>native</td>\n",
              "      <td>NaN</td>\n",
              "      <td>0</td>\n",
              "      <td>0.0015</td>\n",
              "      <td>NaN</td>\n",
              "    </tr>\n",
              "  </tbody>\n",
              "</table>\n",
              "</div>"
            ],
            "text/plain": [
              "   Advertiser ID  Campaign ID  ...     CTR Video_completion_rate\n",
              "0            1.0      29614.0  ...  0.0000                   NaN\n",
              "1            1.0      29614.0  ...  0.0026                   NaN\n",
              "2            1.0      29614.0  ...  0.0015                   NaN\n",
              "\n",
              "[3 rows x 14 columns]"
            ]
          },
          "metadata": {
            "tags": []
          },
          "execution_count": 40
        }
      ]
    },
    {
      "cell_type": "code",
      "metadata": {
        "id": "nQDQPRaY1CcW",
        "colab": {
          "base_uri": "https://localhost:8080/"
        },
        "outputId": "86187020-8b5e-4b3e-c906-3d95233ba278"
      },
      "source": [
        "#dm2.loc[dm2['CTR'] == inf]\n",
        "\n",
        "dm2.CTR.value_counts()\n",
        "dm2.CTR.fillna(0,inplace=True)\n",
        "dm2.CTR.isnull().sum()"
      ],
      "execution_count": null,
      "outputs": [
        {
          "output_type": "execute_result",
          "data": {
            "text/plain": [
              "0"
            ]
          },
          "metadata": {
            "tags": []
          },
          "execution_count": 41
        }
      ]
    },
    {
      "cell_type": "code",
      "metadata": {
        "id": "d0zw2qGlZoVU",
        "colab": {
          "base_uri": "https://localhost:8080/"
        },
        "outputId": "738c4110-7911-414e-c824-e9e6a06b2d58"
      },
      "source": [
        "dm2.Video_completion_rate.value_counts()"
      ],
      "execution_count": null,
      "outputs": [
        {
          "output_type": "execute_result",
          "data": {
            "text/plain": [
              "1.000000    631\n",
              "0.000000    418\n",
              "0.500000    180\n",
              "0.666667    103\n",
              "0.333333     87\n",
              "           ... \n",
              "0.912874      1\n",
              "0.738372      1\n",
              "0.148148      1\n",
              "0.460481      1\n",
              "0.329167      1\n",
              "Name: Video_completion_rate, Length: 7489, dtype: int64"
            ]
          },
          "metadata": {
            "tags": []
          },
          "execution_count": 42
        }
      ]
    },
    {
      "cell_type": "code",
      "metadata": {
        "id": "6f2MLd_5cyrM",
        "colab": {
          "base_uri": "https://localhost:8080/",
          "height": 240
        },
        "outputId": "285bc280-d181-405f-c1db-9b55723c0d22"
      },
      "source": [
        "#(CPM) Cost Per Thousand = (Total Spend/ Total Measured Impressions) * 1000\n",
        "dm2['CPM'] = (dm2['Spend'] / dm2['Impressions'])*1000\n",
        "dm2.head(3)"
      ],
      "execution_count": null,
      "outputs": [
        {
          "output_type": "execute_result",
          "data": {
            "text/html": [
              "<div>\n",
              "<style scoped>\n",
              "    .dataframe tbody tr th:only-of-type {\n",
              "        vertical-align: middle;\n",
              "    }\n",
              "\n",
              "    .dataframe tbody tr th {\n",
              "        vertical-align: top;\n",
              "    }\n",
              "\n",
              "    .dataframe thead th {\n",
              "        text-align: right;\n",
              "    }\n",
              "</style>\n",
              "<table border=\"1\" class=\"dataframe\">\n",
              "  <thead>\n",
              "    <tr style=\"text-align: right;\">\n",
              "      <th></th>\n",
              "      <th>Advertiser ID</th>\n",
              "      <th>Campaign ID</th>\n",
              "      <th>Creative ID</th>\n",
              "      <th>Device Type</th>\n",
              "      <th>Spend</th>\n",
              "      <th>Impressions</th>\n",
              "      <th>Clicks</th>\n",
              "      <th>Video Started</th>\n",
              "      <th>Completed Video Views</th>\n",
              "      <th>Creative Type</th>\n",
              "      <th>Video Type</th>\n",
              "      <th>Video Duration</th>\n",
              "      <th>CTR</th>\n",
              "      <th>Video_completion_rate</th>\n",
              "      <th>CPM</th>\n",
              "    </tr>\n",
              "  </thead>\n",
              "  <tbody>\n",
              "    <tr>\n",
              "      <th>0</th>\n",
              "      <td>1.0</td>\n",
              "      <td>29614.0</td>\n",
              "      <td>101140</td>\n",
              "      <td>tablet-app</td>\n",
              "      <td>0.333799</td>\n",
              "      <td>56.0</td>\n",
              "      <td>0</td>\n",
              "      <td>0</td>\n",
              "      <td>0</td>\n",
              "      <td>native</td>\n",
              "      <td>NaN</td>\n",
              "      <td>0</td>\n",
              "      <td>0.0000</td>\n",
              "      <td>NaN</td>\n",
              "      <td>5.960703</td>\n",
              "    </tr>\n",
              "    <tr>\n",
              "      <th>1</th>\n",
              "      <td>1.0</td>\n",
              "      <td>29614.0</td>\n",
              "      <td>101140</td>\n",
              "      <td>tablet-web</td>\n",
              "      <td>2.501653</td>\n",
              "      <td>381.0</td>\n",
              "      <td>1</td>\n",
              "      <td>0</td>\n",
              "      <td>0</td>\n",
              "      <td>native</td>\n",
              "      <td>NaN</td>\n",
              "      <td>0</td>\n",
              "      <td>0.0026</td>\n",
              "      <td>NaN</td>\n",
              "      <td>6.566018</td>\n",
              "    </tr>\n",
              "    <tr>\n",
              "      <th>2</th>\n",
              "      <td>1.0</td>\n",
              "      <td>29614.0</td>\n",
              "      <td>101140</td>\n",
              "      <td>mobile-app</td>\n",
              "      <td>4.255218</td>\n",
              "      <td>668.0</td>\n",
              "      <td>1</td>\n",
              "      <td>0</td>\n",
              "      <td>0</td>\n",
              "      <td>native</td>\n",
              "      <td>NaN</td>\n",
              "      <td>0</td>\n",
              "      <td>0.0015</td>\n",
              "      <td>NaN</td>\n",
              "      <td>6.370087</td>\n",
              "    </tr>\n",
              "  </tbody>\n",
              "</table>\n",
              "</div>"
            ],
            "text/plain": [
              "   Advertiser ID  Campaign ID  ...  Video_completion_rate       CPM\n",
              "0            1.0      29614.0  ...                    NaN  5.960703\n",
              "1            1.0      29614.0  ...                    NaN  6.566018\n",
              "2            1.0      29614.0  ...                    NaN  6.370087\n",
              "\n",
              "[3 rows x 15 columns]"
            ]
          },
          "metadata": {
            "tags": []
          },
          "execution_count": 43
        }
      ]
    },
    {
      "cell_type": "code",
      "metadata": {
        "id": "AGQti3DTd8p0",
        "colab": {
          "base_uri": "https://localhost:8080/",
          "height": 240
        },
        "outputId": "4132bf00-3ca9-42fd-a8c7-cfb6b4fe5b54"
      },
      "source": [
        "# Now checking out CPC('Cost Per Click')\n",
        "dm2['CPC'] = dm2['Spend']/dm2['Clicks']\n",
        "dm2.head(3)"
      ],
      "execution_count": null,
      "outputs": [
        {
          "output_type": "execute_result",
          "data": {
            "text/html": [
              "<div>\n",
              "<style scoped>\n",
              "    .dataframe tbody tr th:only-of-type {\n",
              "        vertical-align: middle;\n",
              "    }\n",
              "\n",
              "    .dataframe tbody tr th {\n",
              "        vertical-align: top;\n",
              "    }\n",
              "\n",
              "    .dataframe thead th {\n",
              "        text-align: right;\n",
              "    }\n",
              "</style>\n",
              "<table border=\"1\" class=\"dataframe\">\n",
              "  <thead>\n",
              "    <tr style=\"text-align: right;\">\n",
              "      <th></th>\n",
              "      <th>Advertiser ID</th>\n",
              "      <th>Campaign ID</th>\n",
              "      <th>Creative ID</th>\n",
              "      <th>Device Type</th>\n",
              "      <th>Spend</th>\n",
              "      <th>Impressions</th>\n",
              "      <th>Clicks</th>\n",
              "      <th>Video Started</th>\n",
              "      <th>Completed Video Views</th>\n",
              "      <th>Creative Type</th>\n",
              "      <th>Video Type</th>\n",
              "      <th>Video Duration</th>\n",
              "      <th>CTR</th>\n",
              "      <th>Video_completion_rate</th>\n",
              "      <th>CPM</th>\n",
              "      <th>CPC</th>\n",
              "    </tr>\n",
              "  </thead>\n",
              "  <tbody>\n",
              "    <tr>\n",
              "      <th>0</th>\n",
              "      <td>1.0</td>\n",
              "      <td>29614.0</td>\n",
              "      <td>101140</td>\n",
              "      <td>tablet-app</td>\n",
              "      <td>0.333799</td>\n",
              "      <td>56.0</td>\n",
              "      <td>0</td>\n",
              "      <td>0</td>\n",
              "      <td>0</td>\n",
              "      <td>native</td>\n",
              "      <td>NaN</td>\n",
              "      <td>0</td>\n",
              "      <td>0.0000</td>\n",
              "      <td>NaN</td>\n",
              "      <td>5.960703</td>\n",
              "      <td>inf</td>\n",
              "    </tr>\n",
              "    <tr>\n",
              "      <th>1</th>\n",
              "      <td>1.0</td>\n",
              "      <td>29614.0</td>\n",
              "      <td>101140</td>\n",
              "      <td>tablet-web</td>\n",
              "      <td>2.501653</td>\n",
              "      <td>381.0</td>\n",
              "      <td>1</td>\n",
              "      <td>0</td>\n",
              "      <td>0</td>\n",
              "      <td>native</td>\n",
              "      <td>NaN</td>\n",
              "      <td>0</td>\n",
              "      <td>0.0026</td>\n",
              "      <td>NaN</td>\n",
              "      <td>6.566018</td>\n",
              "      <td>2.501653</td>\n",
              "    </tr>\n",
              "    <tr>\n",
              "      <th>2</th>\n",
              "      <td>1.0</td>\n",
              "      <td>29614.0</td>\n",
              "      <td>101140</td>\n",
              "      <td>mobile-app</td>\n",
              "      <td>4.255218</td>\n",
              "      <td>668.0</td>\n",
              "      <td>1</td>\n",
              "      <td>0</td>\n",
              "      <td>0</td>\n",
              "      <td>native</td>\n",
              "      <td>NaN</td>\n",
              "      <td>0</td>\n",
              "      <td>0.0015</td>\n",
              "      <td>NaN</td>\n",
              "      <td>6.370087</td>\n",
              "      <td>4.255218</td>\n",
              "    </tr>\n",
              "  </tbody>\n",
              "</table>\n",
              "</div>"
            ],
            "text/plain": [
              "   Advertiser ID  Campaign ID  ...       CPM       CPC\n",
              "0            1.0      29614.0  ...  5.960703       inf\n",
              "1            1.0      29614.0  ...  6.566018  2.501653\n",
              "2            1.0      29614.0  ...  6.370087  4.255218\n",
              "\n",
              "[3 rows x 16 columns]"
            ]
          },
          "metadata": {
            "tags": []
          },
          "execution_count": 44
        }
      ]
    },
    {
      "cell_type": "code",
      "metadata": {
        "id": "r64XwM4pecuO",
        "colab": {
          "base_uri": "https://localhost:8080/"
        },
        "outputId": "eb79d168-fda2-42fd-e133-2b1be48fa6de"
      },
      "source": [
        "dm2.CPC.value_counts()"
      ],
      "execution_count": null,
      "outputs": [
        {
          "output_type": "execute_result",
          "data": {
            "text/plain": [
              "inf         26957\n",
              "0.000000     1257\n",
              "0.001859        3\n",
              "0.007006        2\n",
              "0.005000        2\n",
              "            ...  \n",
              "0.750088        1\n",
              "0.416991        1\n",
              "0.370092        1\n",
              "0.511260        1\n",
              "3.647927        1\n",
              "Name: CPC, Length: 102391, dtype: int64"
            ]
          },
          "metadata": {
            "tags": []
          },
          "execution_count": 45
        }
      ]
    },
    {
      "cell_type": "code",
      "metadata": {
        "id": "yPC-s2fNlJEZ",
        "colab": {
          "base_uri": "https://localhost:8080/"
        },
        "outputId": "ff91ef19-2652-47c9-b08d-2aaac3669a47"
      },
      "source": [
        "dm2.CTR.value_counts()"
      ],
      "execution_count": null,
      "outputs": [
        {
          "output_type": "execute_result",
          "data": {
            "text/plain": [
              "0.0000    36094\n",
              "0.0006     2519\n",
              "0.0007     2506\n",
              "0.0008     2458\n",
              "0.0009     2340\n",
              "          ...  \n",
              "0.0612        1\n",
              "0.0521        1\n",
              "0.0707        1\n",
              "0.0538        1\n",
              "0.0503        1\n",
              "Name: CTR, Length: 675, dtype: int64"
            ]
          },
          "metadata": {
            "tags": []
          },
          "execution_count": 46
        }
      ]
    },
    {
      "cell_type": "code",
      "metadata": {
        "id": "BnWjRUu12Zd5",
        "colab": {
          "base_uri": "https://localhost:8080/"
        },
        "outputId": "87d23557-9586-4b39-db7f-b73c3d5682cc"
      },
      "source": [
        "dm2['CTR'].astype('float32')"
      ],
      "execution_count": null,
      "outputs": [
        {
          "output_type": "execute_result",
          "data": {
            "text/plain": [
              "0         0.0000\n",
              "1         0.0026\n",
              "2         0.0015\n",
              "3         0.0009\n",
              "4         0.0018\n",
              "           ...  \n",
              "139691    0.0026\n",
              "139692    0.0031\n",
              "139693    0.0000\n",
              "139694    0.0000\n",
              "139695    0.0011\n",
              "Name: CTR, Length: 139696, dtype: float32"
            ]
          },
          "metadata": {
            "tags": []
          },
          "execution_count": 47
        }
      ]
    },
    {
      "cell_type": "code",
      "metadata": {
        "id": "Fh5LANwjqUra"
      },
      "source": [
        "# This is another way we can normalize Data, Normalizing Data in columns : device type,video type , creative type\n",
        "#from sklearn.preprocessing import OneHotEncoder\n",
        "#enc = OneHotEncoder()\n",
        "#enc.fit_transform(x).toarray()\n"
      ],
      "execution_count": null,
      "outputs": []
    },
    {
      "cell_type": "code",
      "metadata": {
        "id": "5ZHba1vBluVq"
      },
      "source": [
        "cim.to_csv('cim.csv')\n",
        "data.to_csv('data.csv')\n",
        "vm.to_csv('vm.csv')"
      ],
      "execution_count": null,
      "outputs": []
    },
    {
      "cell_type": "markdown",
      "metadata": {
        "id": "kJDvRBLWWRUU"
      },
      "source": [
        "Now we have a final table on which we can do the analysis"
      ]
    },
    {
      "cell_type": "code",
      "metadata": {
        "id": "JQ4MyoXX5RGX"
      },
      "source": [
        "dm2 = dm2.replace([np.inf, -np.inf], np.nan)"
      ],
      "execution_count": null,
      "outputs": []
    },
    {
      "cell_type": "code",
      "metadata": {
        "id": "9acKGEdTvUsS",
        "colab": {
          "base_uri": "https://localhost:8080/"
        },
        "outputId": "166227f2-fae7-468d-a962-0debb4a2ba36"
      },
      "source": [
        "dm2.groupby(['Device Type'])['CTR'].mean()"
      ],
      "execution_count": null,
      "outputs": [
        {
          "output_type": "execute_result",
          "data": {
            "text/plain": [
              "Device Type\n",
              "desktop       0.047528\n",
              "mobile-app    0.015397\n",
              "mobile-web    0.022755\n",
              "tablet-app    0.015197\n",
              "tablet-web    0.031190\n",
              "unknown       0.004658\n",
              "Name: CTR, dtype: float64"
            ]
          },
          "metadata": {
            "tags": []
          },
          "execution_count": 51
        }
      ]
    },
    {
      "cell_type": "code",
      "metadata": {
        "id": "IgpuaVAq6HK3",
        "colab": {
          "base_uri": "https://localhost:8080/"
        },
        "outputId": "0ed18181-5a54-4d9a-f1ad-aea5ecd52052"
      },
      "source": [
        "dm2['CTR'].fillna(0,inplace=True)\n",
        "dm2['CTR'].isnull().sum()"
      ],
      "execution_count": null,
      "outputs": [
        {
          "output_type": "execute_result",
          "data": {
            "text/plain": [
              "0"
            ]
          },
          "metadata": {
            "tags": []
          },
          "execution_count": 52
        }
      ]
    },
    {
      "cell_type": "code",
      "metadata": {
        "id": "YH0OE1x-572w"
      },
      "source": [
        "dm2['CTR'] = dm2['CTR'].astype('int')"
      ],
      "execution_count": null,
      "outputs": []
    },
    {
      "cell_type": "code",
      "metadata": {
        "id": "3DZTm4Go68la",
        "colab": {
          "base_uri": "https://localhost:8080/"
        },
        "outputId": "92877da5-7c96-4725-86a8-e9749e288790"
      },
      "source": [
        "dm2.CTR.value_counts()"
      ],
      "execution_count": null,
      "outputs": [
        {
          "output_type": "execute_result",
          "data": {
            "text/plain": [
              "0       139586\n",
              "1          105\n",
              "1269         1\n",
              "740          1\n",
              "468          1\n",
              "204          1\n",
              "141          1\n",
              "Name: CTR, dtype: int64"
            ]
          },
          "metadata": {
            "tags": []
          },
          "execution_count": 54
        }
      ]
    },
    {
      "cell_type": "code",
      "metadata": {
        "id": "XqG8xeAc6m7x",
        "colab": {
          "base_uri": "https://localhost:8080/",
          "height": 316
        },
        "outputId": "4c113786-fc8b-4f9d-cc6f-84a72f81a092"
      },
      "source": [
        "dm2.head()"
      ],
      "execution_count": null,
      "outputs": [
        {
          "output_type": "execute_result",
          "data": {
            "text/html": [
              "<div>\n",
              "<style scoped>\n",
              "    .dataframe tbody tr th:only-of-type {\n",
              "        vertical-align: middle;\n",
              "    }\n",
              "\n",
              "    .dataframe tbody tr th {\n",
              "        vertical-align: top;\n",
              "    }\n",
              "\n",
              "    .dataframe thead th {\n",
              "        text-align: right;\n",
              "    }\n",
              "</style>\n",
              "<table border=\"1\" class=\"dataframe\">\n",
              "  <thead>\n",
              "    <tr style=\"text-align: right;\">\n",
              "      <th></th>\n",
              "      <th>Advertiser ID</th>\n",
              "      <th>Campaign ID</th>\n",
              "      <th>Creative ID</th>\n",
              "      <th>Device Type</th>\n",
              "      <th>Spend</th>\n",
              "      <th>Impressions</th>\n",
              "      <th>Clicks</th>\n",
              "      <th>Video Started</th>\n",
              "      <th>Completed Video Views</th>\n",
              "      <th>Creative Type</th>\n",
              "      <th>Video Type</th>\n",
              "      <th>Video Duration</th>\n",
              "      <th>CTR</th>\n",
              "      <th>Video_completion_rate</th>\n",
              "      <th>CPM</th>\n",
              "      <th>CPC</th>\n",
              "    </tr>\n",
              "  </thead>\n",
              "  <tbody>\n",
              "    <tr>\n",
              "      <th>0</th>\n",
              "      <td>1.0</td>\n",
              "      <td>29614.0</td>\n",
              "      <td>101140</td>\n",
              "      <td>tablet-app</td>\n",
              "      <td>0.333799</td>\n",
              "      <td>56.0</td>\n",
              "      <td>0</td>\n",
              "      <td>0</td>\n",
              "      <td>0</td>\n",
              "      <td>native</td>\n",
              "      <td>NaN</td>\n",
              "      <td>0</td>\n",
              "      <td>0</td>\n",
              "      <td>NaN</td>\n",
              "      <td>5.960703</td>\n",
              "      <td>NaN</td>\n",
              "    </tr>\n",
              "    <tr>\n",
              "      <th>1</th>\n",
              "      <td>1.0</td>\n",
              "      <td>29614.0</td>\n",
              "      <td>101140</td>\n",
              "      <td>tablet-web</td>\n",
              "      <td>2.501653</td>\n",
              "      <td>381.0</td>\n",
              "      <td>1</td>\n",
              "      <td>0</td>\n",
              "      <td>0</td>\n",
              "      <td>native</td>\n",
              "      <td>NaN</td>\n",
              "      <td>0</td>\n",
              "      <td>0</td>\n",
              "      <td>NaN</td>\n",
              "      <td>6.566018</td>\n",
              "      <td>2.501653</td>\n",
              "    </tr>\n",
              "    <tr>\n",
              "      <th>2</th>\n",
              "      <td>1.0</td>\n",
              "      <td>29614.0</td>\n",
              "      <td>101140</td>\n",
              "      <td>mobile-app</td>\n",
              "      <td>4.255218</td>\n",
              "      <td>668.0</td>\n",
              "      <td>1</td>\n",
              "      <td>0</td>\n",
              "      <td>0</td>\n",
              "      <td>native</td>\n",
              "      <td>NaN</td>\n",
              "      <td>0</td>\n",
              "      <td>0</td>\n",
              "      <td>NaN</td>\n",
              "      <td>6.370087</td>\n",
              "      <td>4.255218</td>\n",
              "    </tr>\n",
              "    <tr>\n",
              "      <th>3</th>\n",
              "      <td>1.0</td>\n",
              "      <td>29614.0</td>\n",
              "      <td>101140</td>\n",
              "      <td>mobile-web</td>\n",
              "      <td>13.224842</td>\n",
              "      <td>2111.0</td>\n",
              "      <td>2</td>\n",
              "      <td>0</td>\n",
              "      <td>0</td>\n",
              "      <td>native</td>\n",
              "      <td>NaN</td>\n",
              "      <td>0</td>\n",
              "      <td>0</td>\n",
              "      <td>NaN</td>\n",
              "      <td>6.264728</td>\n",
              "      <td>6.612421</td>\n",
              "    </tr>\n",
              "    <tr>\n",
              "      <th>4</th>\n",
              "      <td>1.0</td>\n",
              "      <td>29614.0</td>\n",
              "      <td>101140</td>\n",
              "      <td>desktop</td>\n",
              "      <td>19.750004</td>\n",
              "      <td>3413.0</td>\n",
              "      <td>6</td>\n",
              "      <td>0</td>\n",
              "      <td>0</td>\n",
              "      <td>native</td>\n",
              "      <td>NaN</td>\n",
              "      <td>0</td>\n",
              "      <td>0</td>\n",
              "      <td>NaN</td>\n",
              "      <td>5.786699</td>\n",
              "      <td>3.291667</td>\n",
              "    </tr>\n",
              "  </tbody>\n",
              "</table>\n",
              "</div>"
            ],
            "text/plain": [
              "   Advertiser ID  Campaign ID  ...       CPM       CPC\n",
              "0            1.0      29614.0  ...  5.960703       NaN\n",
              "1            1.0      29614.0  ...  6.566018  2.501653\n",
              "2            1.0      29614.0  ...  6.370087  4.255218\n",
              "3            1.0      29614.0  ...  6.264728  6.612421\n",
              "4            1.0      29614.0  ...  5.786699  3.291667\n",
              "\n",
              "[5 rows x 16 columns]"
            ]
          },
          "metadata": {
            "tags": []
          },
          "execution_count": 55
        }
      ]
    },
    {
      "cell_type": "code",
      "metadata": {
        "id": "0CnFzPtV6YK6",
        "colab": {
          "base_uri": "https://localhost:8080/"
        },
        "outputId": "a902af6c-0457-4bb3-d34e-3e02fec4c8bb"
      },
      "source": [
        "dm2.columns"
      ],
      "execution_count": null,
      "outputs": [
        {
          "output_type": "execute_result",
          "data": {
            "text/plain": [
              "Index(['Advertiser ID', 'Campaign ID', 'Creative ID', 'Device Type', 'Spend',\n",
              "       'Impressions', 'Clicks', 'Video Started', 'Completed Video Views',\n",
              "       'Creative Type', 'Video Type', 'Video Duration', 'CTR',\n",
              "       'Video_completion_rate', 'CPM', 'CPC'],\n",
              "      dtype='object')"
            ]
          },
          "metadata": {
            "tags": []
          },
          "execution_count": 56
        }
      ]
    },
    {
      "cell_type": "code",
      "metadata": {
        "id": "r8KrzH-e-LDW",
        "colab": {
          "base_uri": "https://localhost:8080/"
        },
        "outputId": "5bcf70f3-fdcd-445d-c90f-bb82b44a4869"
      },
      "source": [
        "dm2['Creative Type'].value_counts()"
      ],
      "execution_count": null,
      "outputs": [
        {
          "output_type": "execute_result",
          "data": {
            "text/plain": [
              "native     99742\n",
              "display    29325\n",
              "video      10624\n",
              "Name: Creative Type, dtype: int64"
            ]
          },
          "metadata": {
            "tags": []
          },
          "execution_count": 57
        }
      ]
    },
    {
      "cell_type": "code",
      "metadata": {
        "id": "0UKp2rtmDrQR",
        "colab": {
          "base_uri": "https://localhost:8080/"
        },
        "outputId": "8a33ba4d-ad39-49ab-e1a9-364a5b8b77af"
      },
      "source": [
        "dm2['Video Type'].value_counts()"
      ],
      "execution_count": null,
      "outputs": [
        {
          "output_type": "execute_result",
          "data": {
            "text/plain": [
              "instream        4207\n",
              "outstream       4016\n",
              "interstitial    2401\n",
              "Name: Video Type, dtype: int64"
            ]
          },
          "metadata": {
            "tags": []
          },
          "execution_count": 58
        }
      ]
    },
    {
      "cell_type": "code",
      "metadata": {
        "id": "I3OWXVTK3fc9",
        "colab": {
          "base_uri": "https://localhost:8080/"
        },
        "outputId": "ecf3136f-8e22-46c2-ada3-0d529d6f61a3"
      },
      "source": [
        "# Checking correlation\n",
        "\n",
        "correlation = dm2['Spend'].corr(dm2['CTR'])\n",
        "correlation"
      ],
      "execution_count": null,
      "outputs": [
        {
          "output_type": "execute_result",
          "data": {
            "text/plain": [
              "0.007203771462614071"
            ]
          },
          "metadata": {
            "tags": []
          },
          "execution_count": 59
        }
      ]
    },
    {
      "cell_type": "code",
      "metadata": {
        "id": "8iC-U5bGhYu1",
        "colab": {
          "base_uri": "https://localhost:8080/",
          "height": 360
        },
        "outputId": "cc4d0a56-ec1e-45fe-e7fa-f0fe05a16809"
      },
      "source": [
        "# Checking which device generates more CTR\n",
        "\n",
        "dm2.groupby(['Device Type'])['CTR'].mean().sort_values(ascending=False).plot(kind='bar')\n",
        "plt.title(\"CTR based on the type of device\")\n",
        "plt.ylabel(\"CTR\")"
      ],
      "execution_count": null,
      "outputs": [
        {
          "output_type": "execute_result",
          "data": {
            "text/plain": [
              "Text(0, 0.5, 'CTR')"
            ]
          },
          "metadata": {
            "tags": []
          },
          "execution_count": 60
        },
        {
          "output_type": "display_data",
          "data": {
            "image/png": "[encoded data removed]",
            "text/plain": [
              "<Figure size 432x288 with 1 Axes>"
            ]
          },
          "metadata": {
            "tags": [],
            "needs_background": "light"
          }
        }
      ]
    },
    {
      "cell_type": "markdown",
      "metadata": {
        "id": "K7TP5-dg-8ua"
      },
      "source": [
        "## Thus from this we can say that Desktops had the most CTR"
      ]
    },
    {
      "cell_type": "code",
      "metadata": {
        "id": "OlZ8ecM_-lWx",
        "colab": {
          "base_uri": "https://localhost:8080/",
          "height": 360
        },
        "outputId": "ff0bbbf3-ae4a-40a4-8960-e77adea827ba"
      },
      "source": [
        "# Checking which device generates more CTR\n",
        "\n",
        "dm2.groupby(['Device Type'])['Video_completion_rate'].mean().sort_values(ascending=False).plot(kind='bar')\n",
        "plt.title(\"Video completion rate based on the type of device\")\n",
        "plt.ylabel(\"Video_Completion_rate\")"
      ],
      "execution_count": null,
      "outputs": [
        {
          "output_type": "execute_result",
          "data": {
            "text/plain": [
              "Text(0, 0.5, 'Video_Completion_rate')"
            ]
          },
          "metadata": {
            "tags": []
          },
          "execution_count": 61
        },
        {
          "output_type": "display_data",
          "data": {
            "image/png": "[encoded data removed]",
            "text/plain": [
              "<Figure size 432x288 with 1 Axes>"
            ]
          },
          "metadata": {
            "tags": [],
            "needs_background": "light"
          }
        }
      ]
    },
    {
      "cell_type": "markdown",
      "metadata": {
        "id": "KRl8qjTj_HXt"
      },
      "source": [
        "Although the Desktops had more CTR , tablet-apps had more video completion rate , followed by Desktops , which says that bigger screen have more profound impact on the CTR."
      ]
    },
    {
      "cell_type": "code",
      "metadata": {
        "id": "KnfytFMMgxqC",
        "colab": {
          "base_uri": "https://localhost:8080/"
        },
        "outputId": "144d0a34-425d-4d22-cc53-d99a9ba7b243"
      },
      "source": [
        "dm2['Video Started'].value_counts()"
      ],
      "execution_count": null,
      "outputs": [
        {
          "output_type": "execute_result",
          "data": {
            "text/plain": [
              "0       129166\n",
              "1          529\n",
              "2          285\n",
              "3          188\n",
              "4          134\n",
              "         ...  \n",
              "590          1\n",
              "4684         1\n",
              "8778         1\n",
              "462          1\n",
              "2366         1\n",
              "Name: Video Started, Length: 4589, dtype: int64"
            ]
          },
          "metadata": {
            "tags": []
          },
          "execution_count": 62
        }
      ]
    },
    {
      "cell_type": "code",
      "metadata": {
        "id": "TN0ttzl1yCGY",
        "colab": {
          "base_uri": "https://localhost:8080/",
          "height": 313
        },
        "outputId": "f1d5e78c-1002-4d12-c25e-2a4ac8e88ae4"
      },
      "source": [
        "dm2['Device Type'].value_counts().plot(kind='bar');"
      ],
      "execution_count": null,
      "outputs": [
        {
          "output_type": "display_data",
          "data": {
            "image/png": "[encoded data removed]",
            "text/plain": [
              "<Figure size 432x288 with 1 Axes>"
            ]
          },
          "metadata": {
            "tags": [],
            "needs_background": "light"
          }
        }
      ]
    },
    {
      "cell_type": "code",
      "metadata": {
        "id": "Asr4z3-720il",
        "colab": {
          "base_uri": "https://localhost:8080/",
          "height": 327
        },
        "outputId": "71b64b7b-d580-4169-ed18-6ad7032cb65e"
      },
      "source": [
        "# Which device has more influence in CTR\n",
        "dm2.groupby(['Device Type'])['CTR'].mean().sort_values(ascending=False).plot(kind='bar');"
      ],
      "execution_count": null,
      "outputs": [
        {
          "output_type": "display_data",
          "data": {
            "image/png": "[encoded data removed]",
            "text/plain": [
              "<Figure size 432x288 with 1 Axes>"
            ]
          },
          "metadata": {
            "tags": [],
            "needs_background": "light"
          }
        }
      ]
    },
    {
      "cell_type": "code",
      "metadata": {
        "id": "BMGtHrv__uLl",
        "colab": {
          "base_uri": "https://localhost:8080/",
          "height": 327
        },
        "outputId": "fe05f77a-8caf-4feb-b486-674e8926e8c2"
      },
      "source": [
        "# Which device has more influence on VCR\n",
        "dm2.groupby(['Device Type'])['Video_completion_rate'].mean().sort_values(ascending=False).plot(kind='bar');"
      ],
      "execution_count": null,
      "outputs": [
        {
          "output_type": "display_data",
          "data": {
            "image/png": "[encoded data removed]",
            "text/plain": [
              "<Figure size 432x288 with 1 Axes>"
            ]
          },
          "metadata": {
            "tags": [],
            "needs_background": "light"
          }
        }
      ]
    },
    {
      "cell_type": "code",
      "metadata": {
        "id": "YYQd_d4t9o87",
        "colab": {
          "base_uri": "https://localhost:8080/",
          "height": 321
        },
        "outputId": "0e90d366-321a-4ba2-ac8b-50f84e079f33"
      },
      "source": [
        "# Which Creative Type has more CTR\n",
        "dm2.groupby(['Creative Type'])['CTR'].mean().sort_values(ascending=False).plot(kind='bar')\n",
        "plt.ylabel('CTR')\n",
        "plt.title(\"The effects of Creative types on CTR\");"
      ],
      "execution_count": null,
      "outputs": [
        {
          "output_type": "display_data",
          "data": {
            "image/png": "[encoded data removed]",
            "text/plain": [
              "<Figure size 432x288 with 1 Axes>"
            ]
          },
          "metadata": {
            "tags": [],
            "needs_background": "light"
          }
        }
      ]
    },
    {
      "cell_type": "code",
      "metadata": {
        "id": "fbGfHWG9J__0",
        "colab": {
          "base_uri": "https://localhost:8080/",
          "height": 321
        },
        "outputId": "97d0f570-f6da-496b-dcae-df5fad3eb900"
      },
      "source": [
        "# Which Creative Type has more CTR\n",
        "dm2.groupby(['Creative Type'])['Spend'].mean().sort_values(ascending=False).plot(kind='bar')\n",
        "plt.ylabel('Spend')\n",
        "plt.title(\"The effects of Creative types on Spend\");"
      ],
      "execution_count": null,
      "outputs": [
        {
          "output_type": "display_data",
          "data": {
            "image/png": "[encoded data removed]",
            "text/plain": [
              "<Figure size 432x288 with 1 Axes>"
            ]
          },
          "metadata": {
            "tags": [],
            "needs_background": "light"
          }
        }
      ]
    },
    {
      "cell_type": "code",
      "metadata": {
        "id": "dxM9cXTW_ZkC",
        "colab": {
          "base_uri": "https://localhost:8080/",
          "height": 321
        },
        "outputId": "91cac32c-d611-46cf-b529-91c31c212fd1"
      },
      "source": [
        "# Which Creative Type has more VCR\n",
        "dm2.groupby(['Creative Type'])['Video_completion_rate'].mean().sort_values(ascending=False).plot(kind='bar')\n",
        "plt.ylabel('Video_completion_rate')\n",
        "plt.title(\"The effects of Creative types on VCR\");"
      ],
      "execution_count": null,
      "outputs": [
        {
          "output_type": "display_data",
          "data": {
            "image/png": "[encoded data removed]",
            "text/plain": [
              "<Figure size 432x288 with 1 Axes>"
            ]
          },
          "metadata": {
            "tags": [],
            "needs_background": "light"
          }
        }
      ]
    },
    {
      "cell_type": "code",
      "metadata": {
        "id": "K_kjfpieABkj",
        "colab": {
          "base_uri": "https://localhost:8080/",
          "height": 719
        },
        "outputId": "68949afd-70f2-403b-f614-8bfe0c07a7b5"
      },
      "source": [
        "plt.figure(figsize=(10,10))\n",
        "dm2.groupby(['Creative Type','Device Type'])['CTR'].mean().sort_values(ascending=False).plot(kind='bar')\n",
        "plt.ylabel(\"CTR\")\n",
        "plt.title(\"The effects of Creative types and Device type on CTR\");"
      ],
      "execution_count": null,
      "outputs": [
        {
          "output_type": "display_data",
          "data": {
            "image/png": "[encoded data removed]",
            "text/plain": [
              "<Figure size 720x720 with 1 Axes>"
            ]
          },
          "metadata": {
            "tags": [],
            "needs_background": "light"
          }
        }
      ]
    },
    {
      "cell_type": "code",
      "metadata": {
        "id": "yC7OtmLLAGU7",
        "colab": {
          "base_uri": "https://localhost:8080/",
          "height": 719
        },
        "outputId": "fcdde84e-475e-414f-d379-4b73c35518b9"
      },
      "source": [
        "plt.figure(figsize=(10,10))\n",
        "dm2.groupby(['Creative Type','Device Type'])['Video_completion_rate'].mean().sort_values(ascending=False).plot(kind='bar')\n",
        "plt.ylabel(\"VCR\")\n",
        "plt.title(\"The effects of Creative types and Device type on VCR\");"
      ],
      "execution_count": null,
      "outputs": [
        {
          "output_type": "display_data",
          "data": {
            "image/png": "[encoded data removed]",
            "text/plain": [
              "<Figure size 720x720 with 1 Axes>"
            ]
          },
          "metadata": {
            "tags": [],
            "needs_background": "light"
          }
        }
      ]
    },
    {
      "cell_type": "code",
      "metadata": {
        "id": "9sJ1ncOPEB8d",
        "colab": {
          "base_uri": "https://localhost:8080/",
          "height": 500
        },
        "outputId": "d0537fde-92f4-4a2a-c144-bf266a3797a0"
      },
      "source": [
        "plt.figure(figsize=(7,7))\n",
        "dm2.groupby(['Video Type'])['CTR'].mean().sort_values(ascending=False).plot(kind='bar')\n",
        "plt.ylabel(\"CTR\")\n",
        "plt.title(\"The effects of Video types on CTR\");"
      ],
      "execution_count": null,
      "outputs": [
        {
          "output_type": "display_data",
          "data": {
            "image/png": "[encoded data removed]",
            "text/plain": [
              "<Figure size 504x504 with 1 Axes>"
            ]
          },
          "metadata": {
            "tags": [],
            "needs_background": "light"
          }
        }
      ]
    },
    {
      "cell_type": "code",
      "metadata": {
        "id": "hw6D7W-lAR57",
        "colab": {
          "base_uri": "https://localhost:8080/",
          "height": 500
        },
        "outputId": "1d0f8cf9-bd3b-4075-d393-f51d59965899"
      },
      "source": [
        "plt.figure(figsize=(7,7))\n",
        "dm2.groupby(['Video Type'])['Video_completion_rate'].mean().sort_values(ascending=False).plot(kind='bar')\n",
        "plt.ylabel(\"VCR\")\n",
        "plt.title(\"The effects of Video types on VCR\");"
      ],
      "execution_count": null,
      "outputs": [
        {
          "output_type": "display_data",
          "data": {
            "image/png": "[encoded data removed]",
            "text/plain": [
              "<Figure size 504x504 with 1 Axes>"
            ]
          },
          "metadata": {
            "tags": [],
            "needs_background": "light"
          }
        }
      ]
    },
    {
      "cell_type": "code",
      "metadata": {
        "id": "v6SiGLESbzqc",
        "colab": {
          "base_uri": "https://localhost:8080/",
          "height": 571
        },
        "outputId": "0281c071-bde8-4700-b48d-17a224c58251"
      },
      "source": [
        "plt.figure(figsize=(7,7))\n",
        "dm2.groupby(['Video Type','Device Type'])['CTR'].mean().sort_values(ascending=False).plot(kind='bar')\n",
        "plt.ylabel(\"CTR\")\n",
        "plt.title(\"The effects of Video types and Devices on CTR\");"
      ],
      "execution_count": null,
      "outputs": [
        {
          "output_type": "display_data",
          "data": {
            "image/png": "[encoded data removed]",
            "text/plain": [
              "<Figure size 504x504 with 1 Axes>"
            ]
          },
          "metadata": {
            "tags": [],
            "needs_background": "light"
          }
        }
      ]
    },
    {
      "cell_type": "code",
      "metadata": {
        "id": "4CzQNCijAe3N",
        "colab": {
          "base_uri": "https://localhost:8080/",
          "height": 571
        },
        "outputId": "e548ee93-546d-4339-d9bc-5dffd7295a5a"
      },
      "source": [
        "plt.figure(figsize=(7,7))\n",
        "dm2.groupby(['Video Type','Device Type'])['Video_completion_rate'].mean().sort_values(ascending=False).plot(kind='bar')\n",
        "plt.ylabel(\"VCR\")\n",
        "plt.title(\"The effects of Video types and Devices on VCR\");"
      ],
      "execution_count": null,
      "outputs": [
        {
          "output_type": "display_data",
          "data": {
            "image/png": "[encoded data removed]",
            "text/plain": [
              "<Figure size 504x504 with 1 Axes>"
            ]
          },
          "metadata": {
            "tags": [],
            "needs_background": "light"
          }
        }
      ]
    },
    {
      "cell_type": "code",
      "metadata": {
        "id": "We3j1RT8ft2K",
        "colab": {
          "base_uri": "https://localhost:8080/",
          "height": 327
        },
        "outputId": "4735166c-0052-4761-e203-f0e54ba58230"
      },
      "source": [
        "dm2.groupby(['Device Type'])['Clicks'].mean().sort_values(ascending=False).plot(kind='bar');"
      ],
      "execution_count": null,
      "outputs": [
        {
          "output_type": "display_data",
          "data": {
            "image/png": "[encoded data removed]",
            "text/plain": [
              "<Figure size 432x288 with 1 Axes>"
            ]
          },
          "metadata": {
            "tags": [],
            "needs_background": "light"
          }
        }
      ]
    },
    {
      "cell_type": "code",
      "metadata": {
        "id": "N-hmj-VBnLd7",
        "colab": {
          "base_uri": "https://localhost:8080/"
        },
        "outputId": "01796e1f-925b-4545-a71c-2e655e7165a5"
      },
      "source": [
        "dm2['Video Duration'].value_counts()"
      ],
      "execution_count": null,
      "outputs": [
        {
          "output_type": "execute_result",
          "data": {
            "text/plain": [
              "0      129072\n",
              "15       3609\n",
              "30       2036\n",
              "3        1222\n",
              "6         352\n",
              "        ...  \n",
              "104         6\n",
              "46          6\n",
              "107         3\n",
              "126         3\n",
              "202         3\n",
              "Name: Video Duration, Length: 85, dtype: int64"
            ]
          },
          "metadata": {
            "tags": []
          },
          "execution_count": 76
        }
      ]
    },
    {
      "cell_type": "code",
      "metadata": {
        "id": "Okz6lW5LiyQJ",
        "colab": {
          "base_uri": "https://localhost:8080/"
        },
        "outputId": "f27c3914-636e-424c-f38c-1b8c47e5fd5d"
      },
      "source": [
        "dm2['Campaign ID'].value_counts()"
      ],
      "execution_count": null,
      "outputs": [
        {
          "output_type": "execute_result",
          "data": {
            "text/plain": [
              "32853.0    976\n",
              "33055.0    479\n",
              "29746.0    478\n",
              "37564.0    473\n",
              "36666.0    469\n",
              "          ... \n",
              "31790.0      1\n",
              "31789.0      1\n",
              "27708.0      1\n",
              "30490.0      1\n",
              "31314.0      1\n",
              "Name: Campaign ID, Length: 6376, dtype: int64"
            ]
          },
          "metadata": {
            "tags": []
          },
          "execution_count": 77
        }
      ]
    },
    {
      "cell_type": "code",
      "metadata": {
        "id": "0ypySjVF7kjb",
        "colab": {
          "base_uri": "https://localhost:8080/",
          "height": 321
        },
        "outputId": "8d8a187d-9c34-4d90-d03c-b40420d27bd8"
      },
      "source": [
        "dm2.describe()"
      ],
      "execution_count": null,
      "outputs": [
        {
          "output_type": "execute_result",
          "data": {
            "text/html": [
              "<div>\n",
              "<style scoped>\n",
              "    .dataframe tbody tr th:only-of-type {\n",
              "        vertical-align: middle;\n",
              "    }\n",
              "\n",
              "    .dataframe tbody tr th {\n",
              "        vertical-align: top;\n",
              "    }\n",
              "\n",
              "    .dataframe thead th {\n",
              "        text-align: right;\n",
              "    }\n",
              "</style>\n",
              "<table border=\"1\" class=\"dataframe\">\n",
              "  <thead>\n",
              "    <tr style=\"text-align: right;\">\n",
              "      <th></th>\n",
              "      <th>Advertiser ID</th>\n",
              "      <th>Campaign ID</th>\n",
              "      <th>Creative ID</th>\n",
              "      <th>Spend</th>\n",
              "      <th>Impressions</th>\n",
              "      <th>Clicks</th>\n",
              "      <th>Video Started</th>\n",
              "      <th>Completed Video Views</th>\n",
              "      <th>Video Duration</th>\n",
              "      <th>CTR</th>\n",
              "      <th>Video_completion_rate</th>\n",
              "      <th>CPM</th>\n",
              "      <th>CPC</th>\n",
              "    </tr>\n",
              "  </thead>\n",
              "  <tbody>\n",
              "    <tr>\n",
              "      <th>count</th>\n",
              "      <td>139693.000000</td>\n",
              "      <td>139693.000000</td>\n",
              "      <td>139696.000000</td>\n",
              "      <td>139696.000000</td>\n",
              "      <td>1.396960e+05</td>\n",
              "      <td>139696.000000</td>\n",
              "      <td>139696.000000</td>\n",
              "      <td>139696.000000</td>\n",
              "      <td>139696.000000</td>\n",
              "      <td>139696.000000</td>\n",
              "      <td>10530.000000</td>\n",
              "      <td>139445.000000</td>\n",
              "      <td>103651.000000</td>\n",
              "    </tr>\n",
              "    <tr>\n",
              "      <th>mean</th>\n",
              "      <td>6953.500727</td>\n",
              "      <td>33510.157030</td>\n",
              "      <td>122726.016880</td>\n",
              "      <td>74.161697</td>\n",
              "      <td>3.404366e+04</td>\n",
              "      <td>99.857856</td>\n",
              "      <td>588.765799</td>\n",
              "      <td>375.638465</td>\n",
              "      <td>2.551140</td>\n",
              "      <td>0.020953</td>\n",
              "      <td>0.599710</td>\n",
              "      <td>4.648443</td>\n",
              "      <td>2.222244</td>\n",
              "    </tr>\n",
              "    <tr>\n",
              "      <th>std</th>\n",
              "      <td>3205.966398</td>\n",
              "      <td>3660.507701</td>\n",
              "      <td>14184.363687</td>\n",
              "      <td>407.297173</td>\n",
              "      <td>2.926281e+05</td>\n",
              "      <td>1389.337982</td>\n",
              "      <td>9482.712078</td>\n",
              "      <td>6324.132220</td>\n",
              "      <td>56.924161</td>\n",
              "      <td>4.178046</td>\n",
              "      <td>2.140551</td>\n",
              "      <td>26.801289</td>\n",
              "      <td>7.828220</td>\n",
              "    </tr>\n",
              "    <tr>\n",
              "      <th>min</th>\n",
              "      <td>1.000000</td>\n",
              "      <td>2178.000000</td>\n",
              "      <td>6696.000000</td>\n",
              "      <td>0.000000</td>\n",
              "      <td>0.000000e+00</td>\n",
              "      <td>0.000000</td>\n",
              "      <td>0.000000</td>\n",
              "      <td>0.000000</td>\n",
              "      <td>0.000000</td>\n",
              "      <td>0.000000</td>\n",
              "      <td>0.000000</td>\n",
              "      <td>0.000000</td>\n",
              "      <td>0.000000</td>\n",
              "    </tr>\n",
              "    <tr>\n",
              "      <th>25%</th>\n",
              "      <td>4809.000000</td>\n",
              "      <td>32068.000000</td>\n",
              "      <td>114430.000000</td>\n",
              "      <td>0.519274</td>\n",
              "      <td>1.730000e+02</td>\n",
              "      <td>0.000000</td>\n",
              "      <td>0.000000</td>\n",
              "      <td>0.000000</td>\n",
              "      <td>0.000000</td>\n",
              "      <td>0.000000</td>\n",
              "      <td>0.355810</td>\n",
              "      <td>1.677149</td>\n",
              "      <td>0.538288</td>\n",
              "    </tr>\n",
              "    <tr>\n",
              "      <th>50%</th>\n",
              "      <td>7546.000000</td>\n",
              "      <td>34060.000000</td>\n",
              "      <td>123669.000000</td>\n",
              "      <td>6.040858</td>\n",
              "      <td>1.944000e+03</td>\n",
              "      <td>5.000000</td>\n",
              "      <td>0.000000</td>\n",
              "      <td>0.000000</td>\n",
              "      <td>0.000000</td>\n",
              "      <td>0.000000</td>\n",
              "      <td>0.615385</td>\n",
              "      <td>3.411372</td>\n",
              "      <td>0.984699</td>\n",
              "    </tr>\n",
              "    <tr>\n",
              "      <th>75%</th>\n",
              "      <td>9813.000000</td>\n",
              "      <td>36071.000000</td>\n",
              "      <td>133517.000000</td>\n",
              "      <td>34.423786</td>\n",
              "      <td>1.145450e+04</td>\n",
              "      <td>24.000000</td>\n",
              "      <td>0.000000</td>\n",
              "      <td>0.000000</td>\n",
              "      <td>0.000000</td>\n",
              "      <td>0.000000</td>\n",
              "      <td>0.770367</td>\n",
              "      <td>5.482162</td>\n",
              "      <td>1.976945</td>\n",
              "    </tr>\n",
              "    <tr>\n",
              "      <th>max</th>\n",
              "      <td>11469.000000</td>\n",
              "      <td>38245.000000</td>\n",
              "      <td>144128.000000</td>\n",
              "      <td>37417.665293</td>\n",
              "      <td>2.747453e+07</td>\n",
              "      <td>277340.000000</td>\n",
              "      <td>974111.000000</td>\n",
              "      <td>637843.000000</td>\n",
              "      <td>6000.000000</td>\n",
              "      <td>1269.000000</td>\n",
              "      <td>196.871429</td>\n",
              "      <td>7002.895516</td>\n",
              "      <td>969.254189</td>\n",
              "    </tr>\n",
              "  </tbody>\n",
              "</table>\n",
              "</div>"
            ],
            "text/plain": [
              "       Advertiser ID    Campaign ID  ...            CPM            CPC\n",
              "count  139693.000000  139693.000000  ...  139445.000000  103651.000000\n",
              "mean     6953.500727   33510.157030  ...       4.648443       2.222244\n",
              "std      3205.966398    3660.507701  ...      26.801289       7.828220\n",
              "min         1.000000    2178.000000  ...       0.000000       0.000000\n",
              "25%      4809.000000   32068.000000  ...       1.677149       0.538288\n",
              "50%      7546.000000   34060.000000  ...       3.411372       0.984699\n",
              "75%      9813.000000   36071.000000  ...       5.482162       1.976945\n",
              "max     11469.000000   38245.000000  ...    7002.895516     969.254189\n",
              "\n",
              "[8 rows x 13 columns]"
            ]
          },
          "metadata": {
            "tags": []
          },
          "execution_count": 78
        }
      ]
    },
    {
      "cell_type": "markdown",
      "metadata": {
        "id": "Lxr4oMkpFBSM"
      },
      "source": [
        "## Encoding the Data"
      ]
    },
    {
      "cell_type": "code",
      "metadata": {
        "id": "c2b6ICbyqzzX",
        "colab": {
          "base_uri": "https://localhost:8080/",
          "height": 249
        },
        "outputId": "014448fa-05e5-4e4c-e2f7-14011ebb7cc7"
      },
      "source": [
        "# Using the getdummies to encoding data\n",
        "# Here our target variable is the Spend column \n",
        "#Encoding Data in columns : device type,video type , creative type\n",
        "dm3 = pd.get_dummies(dm2)\n",
        "dm3.head()"
      ],
      "execution_count": null,
      "outputs": [
        {
          "output_type": "execute_result",
          "data": {
            "text/html": [
              "<div>\n",
              "<style scoped>\n",
              "    .dataframe tbody tr th:only-of-type {\n",
              "        vertical-align: middle;\n",
              "    }\n",
              "\n",
              "    .dataframe tbody tr th {\n",
              "        vertical-align: top;\n",
              "    }\n",
              "\n",
              "    .dataframe thead th {\n",
              "        text-align: right;\n",
              "    }\n",
              "</style>\n",
              "<table border=\"1\" class=\"dataframe\">\n",
              "  <thead>\n",
              "    <tr style=\"text-align: right;\">\n",
              "      <th></th>\n",
              "      <th>Advertiser ID</th>\n",
              "      <th>Campaign ID</th>\n",
              "      <th>Creative ID</th>\n",
              "      <th>Spend</th>\n",
              "      <th>Impressions</th>\n",
              "      <th>Clicks</th>\n",
              "      <th>Video Started</th>\n",
              "      <th>Completed Video Views</th>\n",
              "      <th>Video Duration</th>\n",
              "      <th>CTR</th>\n",
              "      <th>Video_completion_rate</th>\n",
              "      <th>CPM</th>\n",
              "      <th>CPC</th>\n",
              "      <th>Device Type_desktop</th>\n",
              "      <th>Device Type_mobile-app</th>\n",
              "      <th>Device Type_mobile-web</th>\n",
              "      <th>Device Type_tablet-app</th>\n",
              "      <th>Device Type_tablet-web</th>\n",
              "      <th>Device Type_unknown</th>\n",
              "      <th>Creative Type_display</th>\n",
              "      <th>Creative Type_native</th>\n",
              "      <th>Creative Type_video</th>\n",
              "      <th>Video Type_instream</th>\n",
              "      <th>Video Type_interstitial</th>\n",
              "      <th>Video Type_outstream</th>\n",
              "    </tr>\n",
              "  </thead>\n",
              "  <tbody>\n",
              "    <tr>\n",
              "      <th>0</th>\n",
              "      <td>1.0</td>\n",
              "      <td>29614.0</td>\n",
              "      <td>101140</td>\n",
              "      <td>0.333799</td>\n",
              "      <td>56.0</td>\n",
              "      <td>0</td>\n",
              "      <td>0</td>\n",
              "      <td>0</td>\n",
              "      <td>0</td>\n",
              "      <td>0</td>\n",
              "      <td>NaN</td>\n",
              "      <td>5.960703</td>\n",
              "      <td>NaN</td>\n",
              "      <td>0</td>\n",
              "      <td>0</td>\n",
              "      <td>0</td>\n",
              "      <td>1</td>\n",
              "      <td>0</td>\n",
              "      <td>0</td>\n",
              "      <td>0</td>\n",
              "      <td>1</td>\n",
              "      <td>0</td>\n",
              "      <td>0</td>\n",
              "      <td>0</td>\n",
              "      <td>0</td>\n",
              "    </tr>\n",
              "    <tr>\n",
              "      <th>1</th>\n",
              "      <td>1.0</td>\n",
              "      <td>29614.0</td>\n",
              "      <td>101140</td>\n",
              "      <td>2.501653</td>\n",
              "      <td>381.0</td>\n",
              "      <td>1</td>\n",
              "      <td>0</td>\n",
              "      <td>0</td>\n",
              "      <td>0</td>\n",
              "      <td>0</td>\n",
              "      <td>NaN</td>\n",
              "      <td>6.566018</td>\n",
              "      <td>2.501653</td>\n",
              "      <td>0</td>\n",
              "      <td>0</td>\n",
              "      <td>0</td>\n",
              "      <td>0</td>\n",
              "      <td>1</td>\n",
              "      <td>0</td>\n",
              "      <td>0</td>\n",
              "      <td>1</td>\n",
              "      <td>0</td>\n",
              "      <td>0</td>\n",
              "      <td>0</td>\n",
              "      <td>0</td>\n",
              "    </tr>\n",
              "    <tr>\n",
              "      <th>2</th>\n",
              "      <td>1.0</td>\n",
              "      <td>29614.0</td>\n",
              "      <td>101140</td>\n",
              "      <td>4.255218</td>\n",
              "      <td>668.0</td>\n",
              "      <td>1</td>\n",
              "      <td>0</td>\n",
              "      <td>0</td>\n",
              "      <td>0</td>\n",
              "      <td>0</td>\n",
              "      <td>NaN</td>\n",
              "      <td>6.370087</td>\n",
              "      <td>4.255218</td>\n",
              "      <td>0</td>\n",
              "      <td>1</td>\n",
              "      <td>0</td>\n",
              "      <td>0</td>\n",
              "      <td>0</td>\n",
              "      <td>0</td>\n",
              "      <td>0</td>\n",
              "      <td>1</td>\n",
              "      <td>0</td>\n",
              "      <td>0</td>\n",
              "      <td>0</td>\n",
              "      <td>0</td>\n",
              "    </tr>\n",
              "    <tr>\n",
              "      <th>3</th>\n",
              "      <td>1.0</td>\n",
              "      <td>29614.0</td>\n",
              "      <td>101140</td>\n",
              "      <td>13.224842</td>\n",
              "      <td>2111.0</td>\n",
              "      <td>2</td>\n",
              "      <td>0</td>\n",
              "      <td>0</td>\n",
              "      <td>0</td>\n",
              "      <td>0</td>\n",
              "      <td>NaN</td>\n",
              "      <td>6.264728</td>\n",
              "      <td>6.612421</td>\n",
              "      <td>0</td>\n",
              "      <td>0</td>\n",
              "      <td>1</td>\n",
              "      <td>0</td>\n",
              "      <td>0</td>\n",
              "      <td>0</td>\n",
              "      <td>0</td>\n",
              "      <td>1</td>\n",
              "      <td>0</td>\n",
              "      <td>0</td>\n",
              "      <td>0</td>\n",
              "      <td>0</td>\n",
              "    </tr>\n",
              "    <tr>\n",
              "      <th>4</th>\n",
              "      <td>1.0</td>\n",
              "      <td>29614.0</td>\n",
              "      <td>101140</td>\n",
              "      <td>19.750004</td>\n",
              "      <td>3413.0</td>\n",
              "      <td>6</td>\n",
              "      <td>0</td>\n",
              "      <td>0</td>\n",
              "      <td>0</td>\n",
              "      <td>0</td>\n",
              "      <td>NaN</td>\n",
              "      <td>5.786699</td>\n",
              "      <td>3.291667</td>\n",
              "      <td>1</td>\n",
              "      <td>0</td>\n",
              "      <td>0</td>\n",
              "      <td>0</td>\n",
              "      <td>0</td>\n",
              "      <td>0</td>\n",
              "      <td>0</td>\n",
              "      <td>1</td>\n",
              "      <td>0</td>\n",
              "      <td>0</td>\n",
              "      <td>0</td>\n",
              "      <td>0</td>\n",
              "    </tr>\n",
              "  </tbody>\n",
              "</table>\n",
              "</div>"
            ],
            "text/plain": [
              "   Advertiser ID  Campaign ID  ...  Video Type_interstitial  Video Type_outstream\n",
              "0            1.0      29614.0  ...                        0                     0\n",
              "1            1.0      29614.0  ...                        0                     0\n",
              "2            1.0      29614.0  ...                        0                     0\n",
              "3            1.0      29614.0  ...                        0                     0\n",
              "4            1.0      29614.0  ...                        0                     0\n",
              "\n",
              "[5 rows x 25 columns]"
            ]
          },
          "metadata": {
            "tags": []
          },
          "execution_count": 79
        }
      ]
    },
    {
      "cell_type": "code",
      "metadata": {
        "id": "uzFfXBjxKPR2",
        "colab": {
          "base_uri": "https://localhost:8080/",
          "height": 249
        },
        "outputId": "8b31731d-7525-4e4b-cef9-06d95fa199c8"
      },
      "source": [
        "dm3.head()\n"
      ],
      "execution_count": null,
      "outputs": [
        {
          "output_type": "execute_result",
          "data": {
            "text/html": [
              "<div>\n",
              "<style scoped>\n",
              "    .dataframe tbody tr th:only-of-type {\n",
              "        vertical-align: middle;\n",
              "    }\n",
              "\n",
              "    .dataframe tbody tr th {\n",
              "        vertical-align: top;\n",
              "    }\n",
              "\n",
              "    .dataframe thead th {\n",
              "        text-align: right;\n",
              "    }\n",
              "</style>\n",
              "<table border=\"1\" class=\"dataframe\">\n",
              "  <thead>\n",
              "    <tr style=\"text-align: right;\">\n",
              "      <th></th>\n",
              "      <th>Advertiser ID</th>\n",
              "      <th>Campaign ID</th>\n",
              "      <th>Creative ID</th>\n",
              "      <th>Spend</th>\n",
              "      <th>Impressions</th>\n",
              "      <th>Clicks</th>\n",
              "      <th>Video Started</th>\n",
              "      <th>Completed Video Views</th>\n",
              "      <th>Video Duration</th>\n",
              "      <th>CTR</th>\n",
              "      <th>Video_completion_rate</th>\n",
              "      <th>CPM</th>\n",
              "      <th>CPC</th>\n",
              "      <th>Device Type_desktop</th>\n",
              "      <th>Device Type_mobile-app</th>\n",
              "      <th>Device Type_mobile-web</th>\n",
              "      <th>Device Type_tablet-app</th>\n",
              "      <th>Device Type_tablet-web</th>\n",
              "      <th>Device Type_unknown</th>\n",
              "      <th>Creative Type_display</th>\n",
              "      <th>Creative Type_native</th>\n",
              "      <th>Creative Type_video</th>\n",
              "      <th>Video Type_instream</th>\n",
              "      <th>Video Type_interstitial</th>\n",
              "      <th>Video Type_outstream</th>\n",
              "    </tr>\n",
              "  </thead>\n",
              "  <tbody>\n",
              "    <tr>\n",
              "      <th>0</th>\n",
              "      <td>1.0</td>\n",
              "      <td>29614.0</td>\n",
              "      <td>101140</td>\n",
              "      <td>0.333799</td>\n",
              "      <td>56.0</td>\n",
              "      <td>0</td>\n",
              "      <td>0</td>\n",
              "      <td>0</td>\n",
              "      <td>0</td>\n",
              "      <td>0</td>\n",
              "      <td>NaN</td>\n",
              "      <td>5.960703</td>\n",
              "      <td>NaN</td>\n",
              "      <td>0</td>\n",
              "      <td>0</td>\n",
              "      <td>0</td>\n",
              "      <td>1</td>\n",
              "      <td>0</td>\n",
              "      <td>0</td>\n",
              "      <td>0</td>\n",
              "      <td>1</td>\n",
              "      <td>0</td>\n",
              "      <td>0</td>\n",
              "      <td>0</td>\n",
              "      <td>0</td>\n",
              "    </tr>\n",
              "    <tr>\n",
              "      <th>1</th>\n",
              "      <td>1.0</td>\n",
              "      <td>29614.0</td>\n",
              "      <td>101140</td>\n",
              "      <td>2.501653</td>\n",
              "      <td>381.0</td>\n",
              "      <td>1</td>\n",
              "      <td>0</td>\n",
              "      <td>0</td>\n",
              "      <td>0</td>\n",
              "      <td>0</td>\n",
              "      <td>NaN</td>\n",
              "      <td>6.566018</td>\n",
              "      <td>2.501653</td>\n",
              "      <td>0</td>\n",
              "      <td>0</td>\n",
              "      <td>0</td>\n",
              "      <td>0</td>\n",
              "      <td>1</td>\n",
              "      <td>0</td>\n",
              "      <td>0</td>\n",
              "      <td>1</td>\n",
              "      <td>0</td>\n",
              "      <td>0</td>\n",
              "      <td>0</td>\n",
              "      <td>0</td>\n",
              "    </tr>\n",
              "    <tr>\n",
              "      <th>2</th>\n",
              "      <td>1.0</td>\n",
              "      <td>29614.0</td>\n",
              "      <td>101140</td>\n",
              "      <td>4.255218</td>\n",
              "      <td>668.0</td>\n",
              "      <td>1</td>\n",
              "      <td>0</td>\n",
              "      <td>0</td>\n",
              "      <td>0</td>\n",
              "      <td>0</td>\n",
              "      <td>NaN</td>\n",
              "      <td>6.370087</td>\n",
              "      <td>4.255218</td>\n",
              "      <td>0</td>\n",
              "      <td>1</td>\n",
              "      <td>0</td>\n",
              "      <td>0</td>\n",
              "      <td>0</td>\n",
              "      <td>0</td>\n",
              "      <td>0</td>\n",
              "      <td>1</td>\n",
              "      <td>0</td>\n",
              "      <td>0</td>\n",
              "      <td>0</td>\n",
              "      <td>0</td>\n",
              "    </tr>\n",
              "    <tr>\n",
              "      <th>3</th>\n",
              "      <td>1.0</td>\n",
              "      <td>29614.0</td>\n",
              "      <td>101140</td>\n",
              "      <td>13.224842</td>\n",
              "      <td>2111.0</td>\n",
              "      <td>2</td>\n",
              "      <td>0</td>\n",
              "      <td>0</td>\n",
              "      <td>0</td>\n",
              "      <td>0</td>\n",
              "      <td>NaN</td>\n",
              "      <td>6.264728</td>\n",
              "      <td>6.612421</td>\n",
              "      <td>0</td>\n",
              "      <td>0</td>\n",
              "      <td>1</td>\n",
              "      <td>0</td>\n",
              "      <td>0</td>\n",
              "      <td>0</td>\n",
              "      <td>0</td>\n",
              "      <td>1</td>\n",
              "      <td>0</td>\n",
              "      <td>0</td>\n",
              "      <td>0</td>\n",
              "      <td>0</td>\n",
              "    </tr>\n",
              "    <tr>\n",
              "      <th>4</th>\n",
              "      <td>1.0</td>\n",
              "      <td>29614.0</td>\n",
              "      <td>101140</td>\n",
              "      <td>19.750004</td>\n",
              "      <td>3413.0</td>\n",
              "      <td>6</td>\n",
              "      <td>0</td>\n",
              "      <td>0</td>\n",
              "      <td>0</td>\n",
              "      <td>0</td>\n",
              "      <td>NaN</td>\n",
              "      <td>5.786699</td>\n",
              "      <td>3.291667</td>\n",
              "      <td>1</td>\n",
              "      <td>0</td>\n",
              "      <td>0</td>\n",
              "      <td>0</td>\n",
              "      <td>0</td>\n",
              "      <td>0</td>\n",
              "      <td>0</td>\n",
              "      <td>1</td>\n",
              "      <td>0</td>\n",
              "      <td>0</td>\n",
              "      <td>0</td>\n",
              "      <td>0</td>\n",
              "    </tr>\n",
              "  </tbody>\n",
              "</table>\n",
              "</div>"
            ],
            "text/plain": [
              "   Advertiser ID  Campaign ID  ...  Video Type_interstitial  Video Type_outstream\n",
              "0            1.0      29614.0  ...                        0                     0\n",
              "1            1.0      29614.0  ...                        0                     0\n",
              "2            1.0      29614.0  ...                        0                     0\n",
              "3            1.0      29614.0  ...                        0                     0\n",
              "4            1.0      29614.0  ...                        0                     0\n",
              "\n",
              "[5 rows x 25 columns]"
            ]
          },
          "metadata": {
            "tags": []
          },
          "execution_count": 80
        }
      ]
    },
    {
      "cell_type": "markdown",
      "metadata": {
        "id": "p9X7R27FtCY1"
      },
      "source": [
        "# Cleaning the null values in normalized dataset"
      ]
    },
    {
      "cell_type": "code",
      "metadata": {
        "id": "tU58aB-6NIS4",
        "colab": {
          "base_uri": "https://localhost:8080/"
        },
        "outputId": "6738377f-8a06-4e33-a578-a4c842c4173a"
      },
      "source": [
        "dm3.Video_completion_rate.isnull().sum()\n",
        "# Changing the nan values in Video_Completion_rate column to 0\n",
        "dm3['Video_completion_rate'].fillna(0,inplace=True)\n",
        "dm3['Video_completion_rate'].isnull().sum()"
      ],
      "execution_count": null,
      "outputs": [
        {
          "output_type": "execute_result",
          "data": {
            "text/plain": [
              "0"
            ]
          },
          "metadata": {
            "tags": []
          },
          "execution_count": 81
        }
      ]
    },
    {
      "cell_type": "code",
      "metadata": {
        "id": "8_-EWENfKx5P",
        "colab": {
          "base_uri": "https://localhost:8080/"
        },
        "outputId": "44b934b9-985d-4a5d-99d6-f2c2135c4823"
      },
      "source": [
        "dm3.CPM.isnull().sum()\n",
        "# Changing the nan values in Video_Completion_rate column to 0\n",
        "dm3['CPM'].fillna(0,inplace=True)\n",
        "dm3['CPM'].isnull().sum()"
      ],
      "execution_count": null,
      "outputs": [
        {
          "output_type": "execute_result",
          "data": {
            "text/plain": [
              "0"
            ]
          },
          "metadata": {
            "tags": []
          },
          "execution_count": 82
        }
      ]
    },
    {
      "cell_type": "code",
      "metadata": {
        "id": "RmplyKgVLCWB",
        "colab": {
          "base_uri": "https://localhost:8080/"
        },
        "outputId": "7287c0a6-6648-48b3-9407-0f79cd207fca"
      },
      "source": [
        "dm3.CPC.isnull().sum()\n",
        "# Changing the nan values in Video_Completion_rate column to 0\n",
        "dm3['CPC'].fillna(0,inplace=True)\n",
        "dm3['CPC'].isnull().sum()"
      ],
      "execution_count": null,
      "outputs": [
        {
          "output_type": "execute_result",
          "data": {
            "text/plain": [
              "0"
            ]
          },
          "metadata": {
            "tags": []
          },
          "execution_count": 83
        }
      ]
    },
    {
      "cell_type": "code",
      "metadata": {
        "id": "mghL58UHTCKm"
      },
      "source": [
        "dm3.to_csv(r'C:\\Users\\ruchi\\OneDrive\\Desktop\\final_table.csv')"
      ],
      "execution_count": null,
      "outputs": []
    },
    {
      "cell_type": "code",
      "metadata": {
        "id": "Qx4P8jnbrY0A"
      },
      "source": [
        "dm2.to_csv(r'C:\\Users\\ruchi\\OneDrive\\Desktop\\final_table1.csv')"
      ],
      "execution_count": null,
      "outputs": []
    },
    {
      "cell_type": "markdown",
      "metadata": {
        "id": "hOFqwN2rYvwQ"
      },
      "source": [
        "# Analyzing with Machine learning Models"
      ]
    },
    {
      "cell_type": "code",
      "metadata": {
        "id": "paeo7fWsHMFY"
      },
      "source": [
        "from sklearn.model_selection import train_test_split\n",
        "df_x = dm3.drop(columns=['CTR','Advertiser ID','Campaign ID','Creative ID'])\n",
        "df_y = dm3['CTR']\n",
        "x_train, x_test, y_train, y_test = train_test_split(df_x, df_y, test_size=0.2, random_state=4)"
      ],
      "execution_count": null,
      "outputs": []
    },
    {
      "cell_type": "code",
      "metadata": {
        "id": "AppmJ6xMWGK2",
        "colab": {
          "base_uri": "https://localhost:8080/"
        },
        "outputId": "fa3bb4b8-d8e8-45ef-e1cc-7ecd4f352aea"
      },
      "source": [
        "y_train.dtypes"
      ],
      "execution_count": null,
      "outputs": [
        {
          "output_type": "execute_result",
          "data": {
            "text/plain": [
              "dtype('int64')"
            ]
          },
          "metadata": {
            "tags": []
          },
          "execution_count": 87
        }
      ]
    },
    {
      "cell_type": "code",
      "metadata": {
        "id": "UWcrjhUUFDTD",
        "colab": {
          "base_uri": "https://localhost:8080/"
        },
        "outputId": "17029891-3862-4b72-bed1-c71e9798ac81"
      },
      "source": [
        "from sklearn.linear_model import LinearRegression\n",
        "regressor = LinearRegression()\n",
        "regressor.fit(x_train, y_train)\n"
      ],
      "execution_count": null,
      "outputs": [
        {
          "output_type": "execute_result",
          "data": {
            "text/plain": [
              "LinearRegression(copy_X=True, fit_intercept=True, n_jobs=None, normalize=False)"
            ]
          },
          "metadata": {
            "tags": []
          },
          "execution_count": 88
        }
      ]
    },
    {
      "cell_type": "code",
      "metadata": {
        "id": "4yXy5dgXXbzm",
        "colab": {
          "base_uri": "https://localhost:8080/"
        },
        "outputId": "f098b1c1-7e32-4538-f31b-b5ba04a98a5e"
      },
      "source": [
        "y_pred = regressor.predict(x_test)\n",
        "print(y_pred)"
      ],
      "execution_count": null,
      "outputs": [
        {
          "output_type": "stream",
          "text": [
            "[ 0.06005392  0.29016118 -0.22662657 ... -0.08853398  0.04405478\n",
            " -0.32693253]\n"
          ],
          "name": "stdout"
        }
      ]
    },
    {
      "cell_type": "code",
      "metadata": {
        "id": "tnQgrK54X-ef"
      },
      "source": [
        "df = pd.DataFrame({'Actual': y_test, 'Predicted': y_pred})\n"
      ],
      "execution_count": null,
      "outputs": []
    },
    {
      "cell_type": "code",
      "metadata": {
        "id": "H5oMOuCEYcod",
        "colab": {
          "base_uri": "https://localhost:8080/"
        },
        "outputId": "9b7710a7-c6d1-4c19-d205-a572afa0034f"
      },
      "source": [
        "from sklearn import metrics\n",
        "print('Mean Absolute Error:', metrics.mean_absolute_error(y_test, y_pred))\n",
        "print('Mean Squared Error:', metrics.mean_squared_error(y_test, y_pred))\n",
        "print('Root Mean Squared Error:', np.sqrt(metrics.mean_squared_error(y_test, y_pred)))"
      ],
      "execution_count": null,
      "outputs": [
        {
          "output_type": "stream",
          "text": [
            "Mean Absolute Error: 0.3721877807964491\n",
            "Mean Squared Error: 4.382286523602585\n",
            "Root Mean Squared Error: 2.0933911539897614\n"
          ],
          "name": "stdout"
        }
      ]
    },
    {
      "cell_type": "code",
      "metadata": {
        "id": "xKdy5XBIOYpi",
        "colab": {
          "base_uri": "https://localhost:8080/"
        },
        "outputId": "d7aad821-7682-4ef7-93f5-634c5faab95d"
      },
      "source": [
        "#decision tree\n",
        "from sklearn.model_selection import cross_val_score\n",
        "from sklearn.tree import DecisionTreeRegressor\n",
        "dt = DecisionTreeRegressor()\n",
        "dt.fit(x_train,y_train)"
      ],
      "execution_count": null,
      "outputs": [
        {
          "output_type": "execute_result",
          "data": {
            "text/plain": [
              "DecisionTreeRegressor(ccp_alpha=0.0, criterion='mse', max_depth=None,\n",
              "                      max_features=None, max_leaf_nodes=None,\n",
              "                      min_impurity_decrease=0.0, min_impurity_split=None,\n",
              "                      min_samples_leaf=1, min_samples_split=2,\n",
              "                      min_weight_fraction_leaf=0.0, presort='deprecated',\n",
              "                      random_state=None, splitter='best')"
            ]
          },
          "metadata": {
            "tags": []
          },
          "execution_count": 92
        }
      ]
    },
    {
      "cell_type": "code",
      "metadata": {
        "id": "xaJjLG8_X5iQ",
        "colab": {
          "base_uri": "https://localhost:8080/"
        },
        "outputId": "b7e5caea-8eef-4d8f-b8ec-9cbd4486d017"
      },
      "source": [
        "dt.score(x_test,y_test)"
      ],
      "execution_count": null,
      "outputs": [
        {
          "output_type": "execute_result",
          "data": {
            "text/plain": [
              "0.5118182797202034"
            ]
          },
          "metadata": {
            "tags": []
          },
          "execution_count": 93
        }
      ]
    },
    {
      "cell_type": "code",
      "metadata": {
        "id": "9MfockzSqv-j",
        "colab": {
          "base_uri": "https://localhost:8080/"
        },
        "outputId": "c2989f06-a3e9-4150-9bf9-2ed1fee395c1"
      },
      "source": [
        "from sklearn.ensemble import RandomForestRegressor\n",
        "from sklearn.model_selection import cross_val_score, GridSearchCV\n",
        "import numpy as np\n",
        "regressor = RandomForestRegressor(n_estimators = 10, random_state = 0)\n",
        "regressor.fit(x_train,y_train)"
      ],
      "execution_count": null,
      "outputs": [
        {
          "output_type": "execute_result",
          "data": {
            "text/plain": [
              "RandomForestRegressor(bootstrap=True, ccp_alpha=0.0, criterion='mse',\n",
              "                      max_depth=None, max_features='auto', max_leaf_nodes=None,\n",
              "                      max_samples=None, min_impurity_decrease=0.0,\n",
              "                      min_impurity_split=None, min_samples_leaf=1,\n",
              "                      min_samples_split=2, min_weight_fraction_leaf=0.0,\n",
              "                      n_estimators=10, n_jobs=None, oob_score=False,\n",
              "                      random_state=0, verbose=0, warm_start=False)"
            ]
          },
          "metadata": {
            "tags": []
          },
          "execution_count": 94
        }
      ]
    },
    {
      "cell_type": "code",
      "metadata": {
        "id": "tsRAnrCarMav"
      },
      "source": [
        "y_pred  = pd.DataFrame(regressor.predict(x_test))\n",
        "y_pred.index = y_test.index\n",
        "# X_grid = np.arange(min(x_test), max(x_test), 0.01)\n",
        "# X_grid = X_grid.reshape((len(x_grid), 1))\n",
        "# plt.scatter(x_test, y_test, color = 'red')\n",
        "# plt.plot(X_grid, y_pred, color = 'blue')"
      ],
      "execution_count": null,
      "outputs": []
    },
    {
      "cell_type": "code",
      "metadata": {
        "id": "jJl3akAyr6YE",
        "colab": {
          "base_uri": "https://localhost:8080/",
          "height": 195
        },
        "outputId": "556ee7c6-743d-4094-d00a-3ca46a38d1fd"
      },
      "source": [
        "y_preds = pd.DataFrame(y_test).merge(y_pred,left_index=True ,right_index = True)\n",
        "y_preds.head()\n",
        "y_preds.rename(columns={0:'prediction','CTR':'Target'},inplace=True)\n",
        "y_preds['diff'] = np.square(y_preds['Target'] - y_preds['prediction'])\n",
        "y_preds.head()"
      ],
      "execution_count": null,
      "outputs": [
        {
          "output_type": "execute_result",
          "data": {
            "text/html": [
              "<div>\n",
              "<style scoped>\n",
              "    .dataframe tbody tr th:only-of-type {\n",
              "        vertical-align: middle;\n",
              "    }\n",
              "\n",
              "    .dataframe tbody tr th {\n",
              "        vertical-align: top;\n",
              "    }\n",
              "\n",
              "    .dataframe thead th {\n",
              "        text-align: right;\n",
              "    }\n",
              "</style>\n",
              "<table border=\"1\" class=\"dataframe\">\n",
              "  <thead>\n",
              "    <tr style=\"text-align: right;\">\n",
              "      <th></th>\n",
              "      <th>Target</th>\n",
              "      <th>prediction</th>\n",
              "      <th>diff</th>\n",
              "    </tr>\n",
              "  </thead>\n",
              "  <tbody>\n",
              "    <tr>\n",
              "      <th>80268</th>\n",
              "      <td>0</td>\n",
              "      <td>0.0</td>\n",
              "      <td>0.0</td>\n",
              "    </tr>\n",
              "    <tr>\n",
              "      <th>89917</th>\n",
              "      <td>0</td>\n",
              "      <td>0.0</td>\n",
              "      <td>0.0</td>\n",
              "    </tr>\n",
              "    <tr>\n",
              "      <th>103717</th>\n",
              "      <td>0</td>\n",
              "      <td>0.0</td>\n",
              "      <td>0.0</td>\n",
              "    </tr>\n",
              "    <tr>\n",
              "      <th>76628</th>\n",
              "      <td>0</td>\n",
              "      <td>0.0</td>\n",
              "      <td>0.0</td>\n",
              "    </tr>\n",
              "    <tr>\n",
              "      <th>50723</th>\n",
              "      <td>0</td>\n",
              "      <td>0.0</td>\n",
              "      <td>0.0</td>\n",
              "    </tr>\n",
              "  </tbody>\n",
              "</table>\n",
              "</div>"
            ],
            "text/plain": [
              "        Target  prediction  diff\n",
              "80268        0         0.0   0.0\n",
              "89917        0         0.0   0.0\n",
              "103717       0         0.0   0.0\n",
              "76628        0         0.0   0.0\n",
              "50723        0         0.0   0.0"
            ]
          },
          "metadata": {
            "tags": []
          },
          "execution_count": 96
        }
      ]
    },
    {
      "cell_type": "code",
      "metadata": {
        "id": "rwcIlbUzuIgc",
        "colab": {
          "base_uri": "https://localhost:8080/"
        },
        "outputId": "7852c4db-573f-4689-87ae-7adcb48eef05"
      },
      "source": [
        "# Average squared error\n",
        "y_preds['diff'].sum()/y_preds['diff'].count()"
      ],
      "execution_count": null,
      "outputs": [
        {
          "output_type": "execute_result",
          "data": {
            "text/plain": [
              "0.8983489620615606"
            ]
          },
          "metadata": {
            "tags": []
          },
          "execution_count": 97
        }
      ]
    },
    {
      "cell_type": "markdown",
      "metadata": {
        "id": "gIn1yHBPfYZ6"
      },
      "source": [
        "## **Descriptive Statistics for the parameters**"
      ]
    },
    {
      "cell_type": "code",
      "metadata": {
        "id": "19qp4NpQeGLs"
      },
      "source": [
        "d = np.round(dm2.describe(), 2)[['Spend','Impressions', 'Clicks', 'Video Started', 'Completed Video Views']]"
      ],
      "execution_count": null,
      "outputs": []
    },
    {
      "cell_type": "code",
      "metadata": {
        "id": "010yaBpAgXc6",
        "colab": {
          "base_uri": "https://localhost:8080/"
        },
        "outputId": "73dbd79d-21a8-4096-8ffc-55604e3bd3fd"
      },
      "source": [
        "print(d)"
      ],
      "execution_count": null,
      "outputs": [
        {
          "output_type": "stream",
          "text": [
            "           Spend  Impressions     Clicks  Video Started  Completed Video Views\n",
            "count  139696.00    139696.00  139696.00      139696.00              139696.00\n",
            "mean       74.16     34043.66      99.86         588.77                 375.64\n",
            "std       407.30    292628.12    1389.34        9482.71                6324.13\n",
            "min         0.00         0.00       0.00           0.00                   0.00\n",
            "25%         0.52       173.00       0.00           0.00                   0.00\n",
            "50%         6.04      1944.00       5.00           0.00                   0.00\n",
            "75%        34.42     11454.50      24.00           0.00                   0.00\n",
            "max     37417.67  27474526.00  277340.00      974111.00              637843.00\n"
          ],
          "name": "stdout"
        }
      ]
    },
    {
      "cell_type": "code",
      "metadata": {
        "id": "uqMK9FeBfOqu"
      },
      "source": [
        "d.to_csv('summary stats.csv', sep=',')"
      ],
      "execution_count": null,
      "outputs": []
    }
  ]
}